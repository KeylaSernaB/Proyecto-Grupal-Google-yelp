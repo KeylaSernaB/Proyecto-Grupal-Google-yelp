{
 "cells": [
  {
   "cell_type": "code",
   "execution_count": 1,
   "metadata": {},
   "outputs": [],
   "source": [
    "import pandas as pd\n",
    "import json\n",
    "import os\n",
    "import datetime\n",
    "import matplotlib.pyplot as plt\n",
    "import numpy as np"
   ]
  },
  {
   "cell_type": "code",
   "execution_count": 7,
   "metadata": {},
   "outputs": [
    {
     "name": "stdout",
     "output_type": "stream",
     "text": [
      "[WinError 2] El sistema no puede encontrar el archivo especificado: '.\\\\metadata-sitios'\n",
      "c:\\Users\\sebas\\OneDrive\\Escritorio\\Proyecto-Grupal-Google-yelp\\Sprint 1 Propuesta de Trabajo\\EDA Google\\metadata-sitios\n"
     ]
    }
   ],
   "source": [
    "import os\n",
    "import pandas as pd\n",
    "import json\n",
    "\n",
    "# Cambiar el directorio de trabajo al directorio donde se encuentran los archivos JSON\n",
    "%cd .\\metadata-sitios\n",
    "\n",
    "# Obtener una lista de archivos en el directorio actual\n",
    "archivos = os.listdir()\n",
    "\n",
    "# Lista para almacenar diccionarios creados a partir de cada archivo JSON\n",
    "lista_metadata = []\n",
    "\n",
    "# Iterar sobre cada archivo en la lista de archivos\n",
    "for archivo in archivos:\n",
    "    # Verificar si el archivo tiene la extensión .json\n",
    "    if archivo.endswith('.json'):\n",
    "        # Leer el archivo JSON y procesar cada línea\n",
    "        with open(archivo, 'r', encoding='utf-8') as f:\n",
    "            data = f.readlines()\n",
    "            # Procesar cada línea del archivo\n",
    "            for linea in data:\n",
    "                try:\n",
    "                    # Convertir cada línea en un diccionario y agregarlo a la lista\n",
    "                    json_data = json.loads(linea)\n",
    "                    lista_metadata.append(json_data)\n",
    "                except ValueError as e:\n",
    "                    # Manejar errores al intentar evaluar la línea como un diccionario \n",
    "                    print(f\"Error en la línea: {linea}\")\n",
    "                    continue\n",
    "\n",
    "# Crear un DataFrame a partir de la lista de diccionarios\n",
    "df_metadata = pd.DataFrame(lista_metadata)\n",
    "print(\"finalizo la carga de datos\")\n"
   ]
  },
  {
   "cell_type": "code",
   "execution_count": null,
   "metadata": {},
   "outputs": [],
   "source": [
    "# Usamos json_normalize para extraer la informacion anindada en la columna 'reviews'\n",
    "df_metadata = pd.json_normalize(\n",
    "    # Utilizamos la lista creada al principio\n",
    "    data=lista_metadata, # Json_normalize solo admite objetos no serializados para funcionar\n",
    "    record_path='reviews', # Indicamos la columna con los datos anidados\n",
    "    meta=['user_id', 'user_url'] # Campos que se quieren corsevar\n",
    ")"
   ]
  }
 ],
 "metadata": {
  "kernelspec": {
   "display_name": "Python 3",
   "language": "python",
   "name": "python3"
  },
  "language_info": {
   "codemirror_mode": {
    "name": "ipython",
    "version": 3
   },
   "file_extension": ".py",
   "mimetype": "text/x-python",
   "name": "python",
   "nbconvert_exporter": "python",
   "pygments_lexer": "ipython3",
   "version": "3.9.0"
  }
 },
 "nbformat": 4,
 "nbformat_minor": 2
}

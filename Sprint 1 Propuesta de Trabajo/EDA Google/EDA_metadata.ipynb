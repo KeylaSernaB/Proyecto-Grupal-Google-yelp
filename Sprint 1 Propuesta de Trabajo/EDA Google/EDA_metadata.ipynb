{
 "cells": [
  {
   "cell_type": "code",
   "execution_count": 2,
   "metadata": {},
   "outputs": [],
   "source": [
    "# importamos las librerias necesarias\n",
    "import pandas as pd\n",
    "import json\n",
    "import os\n",
    "import datetime\n",
    "import matplotlib.pyplot as plt\n",
    "import numpy as np"
   ]
  },
  {
   "cell_type": "code",
   "execution_count": 3,
   "metadata": {},
   "outputs": [
    {
     "name": "stdout",
     "output_type": "stream",
     "text": [
      "c:\\Users\\sebas\\OneDrive\\Escritorio\\Proyecto-Grupal-Google-yelp\\Sprint 1 Propuesta de Trabajo\\EDA Google\\metadata-sitios\n",
      "finalizo cargan de datos\n"
     ]
    }
   ],
   "source": [
    "# Cambiar el directorio de trabajo al directorio donde se encuentran los archivos JSON\n",
    "%cd ./metadata-sitios\n",
    "# Obtener una lista de archivos en el directorio actual\n",
    "archivos = os.listdir()\n",
    "\n",
    "# Crear un DataFrame vacío para almacenar los datos\n",
    "df_metadata = pd.DataFrame()\n",
    "\n",
    "# Iterar sobre cada archivo en la lista de archivos\n",
    "for archivo in archivos:\n",
    "    # Verificar si el archivo tiene la extensión .json\n",
    "    if archivo.endswith('.json'):\n",
    "        # Leer el archivo JSON y cargarlo en un DataFrame\n",
    "        data = pd.read_json(archivo, lines=True)\n",
    "        # Concatenar los datos del archivo al DataFrame principal\n",
    "        df_metadata = pd.concat([df_metadata, data], axis=0)\n",
    "print(\"finalizo cargan de datos\")"
   ]
  },
  {
   "cell_type": "code",
   "execution_count": 4,
   "metadata": {},
   "outputs": [],
   "source": [
    "# Eliminamos columnas irrelevantes\n",
    "df_metadata.drop(columns=['address', 'state', 'relative_results', 'url','hours','description'], inplace=True)\n"
   ]
  },
  {
   "cell_type": "code",
   "execution_count": 5,
   "metadata": {},
   "outputs": [],
   "source": [
    "from pandas import json_normalize \n",
    "\n",
    "# Desanidar los datos de la columna \"MISC\"\n",
    "df_desanidado = json_normalize(df_metadata['MISC'])\n"
   ]
  },
  {
   "cell_type": "code",
   "execution_count": 14,
   "metadata": {},
   "outputs": [],
   "source": [
    "# Vamos a trabajar con una copia de metadata para crear una posible tabla \"service_characteristics\"\n",
    "df_gmap_id = df_metadata.copy()\n",
    "# Resetear el índice del DataFrame df_gmap_id\n",
    "df_gmap_id.reset_index(drop=True, inplace=True)\n",
    "\n",
    "# Combinar los DataFrames desanidados\n",
    "df_service = pd.concat([df_gmap_id, df_desanidado], axis=1)\n"
   ]
  },
  {
   "cell_type": "code",
   "execution_count": 16,
   "metadata": {},
   "outputs": [],
   "source": [
    "# Eliminamos columna MISC\n",
    "df_metadata.drop(columns=['MISC'], inplace=True)"
   ]
  },
  {
   "cell_type": "code",
   "execution_count": 8,
   "metadata": {},
   "outputs": [],
   "source": [
    "def primer_categoria(lista):\n",
    "    if lista and len(lista) >= 1:\n",
    "        return lista[0]\n",
    "    else:\n",
    "        return None  \n",
    "\n",
    "# Aplicar la función a cada fila de la columna 'category'\n",
    "df_metadata['categoria_1'] = df_metadata['category'].apply(primer_categoria)\n"
   ]
  },
  {
   "cell_type": "code",
   "execution_count": 9,
   "metadata": {},
   "outputs": [],
   "source": [
    "# Eliminamos columna category\n",
    "df_metadata.drop(columns=['category'], inplace=True)"
   ]
  },
  {
   "cell_type": "code",
   "execution_count": 25,
   "metadata": {},
   "outputs": [
    {
     "data": {
      "text/html": [
       "<div>\n",
       "<style scoped>\n",
       "    .dataframe tbody tr th:only-of-type {\n",
       "        vertical-align: middle;\n",
       "    }\n",
       "\n",
       "    .dataframe tbody tr th {\n",
       "        vertical-align: top;\n",
       "    }\n",
       "\n",
       "    .dataframe thead th {\n",
       "        text-align: right;\n",
       "    }\n",
       "</style>\n",
       "<table border=\"1\" class=\"dataframe\">\n",
       "  <thead>\n",
       "    <tr style=\"text-align: right;\">\n",
       "      <th></th>\n",
       "      <th>name</th>\n",
       "      <th>gmap_id</th>\n",
       "      <th>latitude</th>\n",
       "      <th>longitude</th>\n",
       "      <th>avg_rating</th>\n",
       "      <th>num_of_reviews</th>\n",
       "      <th>price</th>\n",
       "      <th>categoria_1</th>\n",
       "    </tr>\n",
       "  </thead>\n",
       "  <tbody>\n",
       "    <tr>\n",
       "      <th>0</th>\n",
       "      <td>Porter Pharmacy</td>\n",
       "      <td>0x88f16e41928ff687:0x883dad4fd048e8f8</td>\n",
       "      <td>32.388300</td>\n",
       "      <td>-83.35710</td>\n",
       "      <td>4.9</td>\n",
       "      <td>16</td>\n",
       "      <td>None</td>\n",
       "      <td>Pharmacy</td>\n",
       "    </tr>\n",
       "    <tr>\n",
       "      <th>1</th>\n",
       "      <td>City Textile</td>\n",
       "      <td>0x80c2c98c0e3c16fd:0x29ec8a728764fdf9</td>\n",
       "      <td>34.018891</td>\n",
       "      <td>-118.21529</td>\n",
       "      <td>4.5</td>\n",
       "      <td>6</td>\n",
       "      <td>None</td>\n",
       "      <td>Textile exporter</td>\n",
       "    </tr>\n",
       "  </tbody>\n",
       "</table>\n",
       "</div>"
      ],
      "text/plain": [
       "              name                                gmap_id   latitude  \\\n",
       "0  Porter Pharmacy  0x88f16e41928ff687:0x883dad4fd048e8f8  32.388300   \n",
       "1     City Textile  0x80c2c98c0e3c16fd:0x29ec8a728764fdf9  34.018891   \n",
       "\n",
       "   longitude  avg_rating  num_of_reviews price       categoria_1  \n",
       "0  -83.35710         4.9              16  None          Pharmacy  \n",
       "1 -118.21529         4.5               6  None  Textile exporter  "
      ]
     },
     "execution_count": 25,
     "metadata": {},
     "output_type": "execute_result"
    }
   ],
   "source": [
    "df_metadata.head(2)"
   ]
  },
  {
   "cell_type": "code",
   "execution_count": 27,
   "metadata": {},
   "outputs": [
    {
     "data": {
      "text/plain": [
       "False    2173428\n",
       "True       26580\n",
       "Name: count, dtype: int64"
      ]
     },
     "execution_count": 27,
     "metadata": {},
     "output_type": "execute_result"
    }
   ],
   "source": [
    "# Verificar si hay valores duplicados\n",
    "df_metadata.duplicated().value_counts()\n"
   ]
  },
  {
   "cell_type": "code",
   "execution_count": 28,
   "metadata": {},
   "outputs": [],
   "source": [
    "df_metadata.drop_duplicates(inplace=True)"
   ]
  },
  {
   "cell_type": "code",
   "execution_count": 29,
   "metadata": {},
   "outputs": [
    {
     "data": {
      "text/plain": [
       "name                   31\n",
       "gmap_id                 0\n",
       "latitude                0\n",
       "longitude               0\n",
       "avg_rating              0\n",
       "num_of_reviews          0\n",
       "price             2016415\n",
       "categoria_1         13945\n",
       "dtype: int64"
      ]
     },
     "execution_count": 29,
     "metadata": {},
     "output_type": "execute_result"
    }
   ],
   "source": [
    "# Verificar si hay valores nulos\n",
    "df_metadata.isnull().sum()"
   ]
  },
  {
   "cell_type": "code",
   "execution_count": 31,
   "metadata": {},
   "outputs": [],
   "source": [
    "lista_categorias = df_metadata[\"categoria_1\"].tolist()"
   ]
  },
  {
   "cell_type": "code",
   "execution_count": 34,
   "metadata": {},
   "outputs": [],
   "source": [
    "df_metadata.to_csv(\"metadata.csv\", index=False)"
   ]
  }
 ],
 "metadata": {
  "kernelspec": {
   "display_name": "Python 3",
   "language": "python",
   "name": "python3"
  },
  "language_info": {
   "codemirror_mode": {
    "name": "ipython",
    "version": 3
   },
   "file_extension": ".py",
   "mimetype": "text/x-python",
   "name": "python",
   "nbconvert_exporter": "python",
   "pygments_lexer": "ipython3",
   "version": "3.9.0"
  }
 },
 "nbformat": 4,
 "nbformat_minor": 2
}

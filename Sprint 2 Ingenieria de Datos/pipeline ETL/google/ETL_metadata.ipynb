{
 "cells": [
  {
   "cell_type": "markdown",
   "metadata": {},
   "source": [
    "#### Pipeline ETL para ingesta en base de datos relacional"
   ]
  },
  {
   "cell_type": "code",
   "execution_count": 8,
   "metadata": {},
   "outputs": [],
   "source": [
    "# importamos las librerias necesarias\n",
    "import pandas as pd\n",
    "import json\n",
    "import os\n",
    "import datetime\n",
    "import matplotlib.pyplot as plt\n",
    "import numpy as np\n",
    "import gzip"
   ]
  },
  {
   "cell_type": "code",
   "execution_count": 9,
   "metadata": {},
   "outputs": [
    {
     "name": "stdout",
     "output_type": "stream",
     "text": [
      "c:\\Users\\sebas\\OneDrive\\Escritorio\\Proyecto-Grupal-Google-yelp\\Sprint 2 Ingenieria de Datos\\pipeline ETL\\google\\metadata\n",
      "finalizo cargan de datos\n"
     ]
    }
   ],
   "source": [
    "# Cambiar el directorio de trabajo al directorio donde se encuentran los archivos JSON\n",
    "%cd ./metadata\n",
    "# Obtener una lista de archivos en el directorio actual\n",
    "archivos = os.listdir()\n",
    "\n",
    "# Crear un DataFrame vacío para almacenar los datos\n",
    "df_metadata = pd.DataFrame()\n",
    "\n",
    "# Iterar sobre cada archivo en la lista de archivos\n",
    "for archivo in archivos:\n",
    "    # Verificar si el archivo tiene la extensión .json.gz\n",
    "    if archivo.endswith('.json.gz'):\n",
    "        # Leer el archivo JSON comprimido y cargarlo en un DataFrame\n",
    "        data = pd.read_json(archivo, lines=True, compression='gzip')\n",
    "        # Concatenar los datos del archivo al DataFrame principal\n",
    "        df_metadata = pd.concat([df_metadata, data], axis=0)\n",
    "        \n",
    "print(\"finalizo cargan de datos\")\n"
   ]
  },
  {
   "cell_type": "code",
   "execution_count": 10,
   "metadata": {},
   "outputs": [
    {
     "data": {
      "text/html": [
       "<div>\n",
       "<style scoped>\n",
       "    .dataframe tbody tr th:only-of-type {\n",
       "        vertical-align: middle;\n",
       "    }\n",
       "\n",
       "    .dataframe tbody tr th {\n",
       "        vertical-align: top;\n",
       "    }\n",
       "\n",
       "    .dataframe thead th {\n",
       "        text-align: right;\n",
       "    }\n",
       "</style>\n",
       "<table border=\"1\" class=\"dataframe\">\n",
       "  <thead>\n",
       "    <tr style=\"text-align: right;\">\n",
       "      <th></th>\n",
       "      <th>0</th>\n",
       "      <th>1</th>\n",
       "      <th>2</th>\n",
       "      <th>3</th>\n",
       "      <th>4</th>\n",
       "      <th>5</th>\n",
       "      <th>6</th>\n",
       "      <th>7</th>\n",
       "      <th>8</th>\n",
       "      <th>9</th>\n",
       "      <th>...</th>\n",
       "      <th>274991</th>\n",
       "      <th>274992</th>\n",
       "      <th>274993</th>\n",
       "      <th>274994</th>\n",
       "      <th>274995</th>\n",
       "      <th>274996</th>\n",
       "      <th>274997</th>\n",
       "      <th>274998</th>\n",
       "      <th>274999</th>\n",
       "      <th>275000</th>\n",
       "    </tr>\n",
       "  </thead>\n",
       "  <tbody>\n",
       "    <tr>\n",
       "      <th>0</th>\n",
       "      <td>{'name': 'Porter Pharmacy', 'address': 'Porter...</td>\n",
       "      <td>{'name': 'City Textile', 'address': 'City Text...</td>\n",
       "      <td>{'name': 'San Soo Dang', 'address': 'San Soo D...</td>\n",
       "      <td>{'name': 'Nova Fabrics', 'address': 'Nova Fabr...</td>\n",
       "      <td>{'name': 'Nobel Textile Co', 'address': 'Nobel...</td>\n",
       "      <td>{'name': 'Matrix International Textiles', 'add...</td>\n",
       "      <td>{'name': 'Vons Chicken', 'address': 'Vons Chic...</td>\n",
       "      <td>{'name': 'Polished Nail Salon &amp; Spa', 'address...</td>\n",
       "      <td>{'name': 'Sweet Rewards Gluten Free Bakery, LL...</td>\n",
       "      <td>{'name': 'PeepNotes', 'address': None, 'gmap_i...</td>\n",
       "      <td>...</td>\n",
       "      <td>{'name': 'Southside Bank', 'address': 'Southsi...</td>\n",
       "      <td>{'name': 'Smart Services', 'address': 'Smart S...</td>\n",
       "      <td>{'name': 'St John Baptist Church', 'address': ...</td>\n",
       "      <td>{'name': 'New South Services', 'address': None...</td>\n",
       "      <td>{'name': 'Stone Castle Fence', 'address': None...</td>\n",
       "      <td>{'name': 'Maven Realty', 'address': 'Maven Rea...</td>\n",
       "      <td>{'name': 'Stone Castle Fence', 'address': 'Sto...</td>\n",
       "      <td>{'name': 'Health Insurance Solutions Team', 'a...</td>\n",
       "      <td>{'name': 'Bernard Building Center', 'address':...</td>\n",
       "      <td>{'name': 'HMR Motor Works and Auto Care', 'add...</td>\n",
       "    </tr>\n",
       "    <tr>\n",
       "      <th>0</th>\n",
       "      <td>{'name': 'Porter Pharmacy', 'address': 'Porter...</td>\n",
       "      <td>{'name': 'Glik's', 'address': 'Glik's, 1405 W ...</td>\n",
       "      <td>{'name': 'Oscoda County Area Transit Authority...</td>\n",
       "      <td>{'name': 'Hickerson Floor &amp; Tile Haus', 'addre...</td>\n",
       "      <td>{'name': 'Beck Suzanne A MD', 'address': 'Beck...</td>\n",
       "      <td>{'name': 'Perfection Plus Quality', 'address':...</td>\n",
       "      <td>{'name': 'Charlie's Hair Salon', 'address': 'C...</td>\n",
       "      <td>{'name': 'Double Header', 'address': 'Double H...</td>\n",
       "      <td>{'name': 'AACCT', 'address': 'AACCT, 34-48 Lin...</td>\n",
       "      <td>{'name': 'Glen Head Racquet Club', 'address': ...</td>\n",
       "      <td>...</td>\n",
       "      <td>{'name': 'Bedford Auto Service', 'address': 'B...</td>\n",
       "      <td>{'name': 'Sandbox Bar &amp; Grill', 'address': 'Sa...</td>\n",
       "      <td>{'name': 'Clark Street Brentwood', 'address': ...</td>\n",
       "      <td>{'name': 'Up In Smoke', 'address': 'Up In Smok...</td>\n",
       "      <td>{'name': 'Slabaugh Says', 'address': 'Slabaugh...</td>\n",
       "      <td>{'name': 'Quality Office Supply', 'address': '...</td>\n",
       "      <td>{'name': 'JV towing', 'address': 'JV towing, 4...</td>\n",
       "      <td>{'name': 'Sisom Osia, MD (Gateway Medical Cent...</td>\n",
       "      <td>{'name': 'Rasa Floors', 'address': 'Rasa Floor...</td>\n",
       "      <td>{'name': 'Alpha Testing, Inc.', 'address': 'Al...</td>\n",
       "    </tr>\n",
       "  </tbody>\n",
       "</table>\n",
       "<p>2 rows × 275001 columns</p>\n",
       "</div>"
      ],
      "text/plain": [
       "                                              0       \\\n",
       "0  {'name': 'Porter Pharmacy', 'address': 'Porter...   \n",
       "0  {'name': 'Porter Pharmacy', 'address': 'Porter...   \n",
       "\n",
       "                                              1       \\\n",
       "0  {'name': 'City Textile', 'address': 'City Text...   \n",
       "0  {'name': 'Glik's', 'address': 'Glik's, 1405 W ...   \n",
       "\n",
       "                                              2       \\\n",
       "0  {'name': 'San Soo Dang', 'address': 'San Soo D...   \n",
       "0  {'name': 'Oscoda County Area Transit Authority...   \n",
       "\n",
       "                                              3       \\\n",
       "0  {'name': 'Nova Fabrics', 'address': 'Nova Fabr...   \n",
       "0  {'name': 'Hickerson Floor & Tile Haus', 'addre...   \n",
       "\n",
       "                                              4       \\\n",
       "0  {'name': 'Nobel Textile Co', 'address': 'Nobel...   \n",
       "0  {'name': 'Beck Suzanne A MD', 'address': 'Beck...   \n",
       "\n",
       "                                              5       \\\n",
       "0  {'name': 'Matrix International Textiles', 'add...   \n",
       "0  {'name': 'Perfection Plus Quality', 'address':...   \n",
       "\n",
       "                                              6       \\\n",
       "0  {'name': 'Vons Chicken', 'address': 'Vons Chic...   \n",
       "0  {'name': 'Charlie's Hair Salon', 'address': 'C...   \n",
       "\n",
       "                                              7       \\\n",
       "0  {'name': 'Polished Nail Salon & Spa', 'address...   \n",
       "0  {'name': 'Double Header', 'address': 'Double H...   \n",
       "\n",
       "                                              8       \\\n",
       "0  {'name': 'Sweet Rewards Gluten Free Bakery, LL...   \n",
       "0  {'name': 'AACCT', 'address': 'AACCT, 34-48 Lin...   \n",
       "\n",
       "                                              9       ...  \\\n",
       "0  {'name': 'PeepNotes', 'address': None, 'gmap_i...  ...   \n",
       "0  {'name': 'Glen Head Racquet Club', 'address': ...  ...   \n",
       "\n",
       "                                              274991  \\\n",
       "0  {'name': 'Southside Bank', 'address': 'Southsi...   \n",
       "0  {'name': 'Bedford Auto Service', 'address': 'B...   \n",
       "\n",
       "                                              274992  \\\n",
       "0  {'name': 'Smart Services', 'address': 'Smart S...   \n",
       "0  {'name': 'Sandbox Bar & Grill', 'address': 'Sa...   \n",
       "\n",
       "                                              274993  \\\n",
       "0  {'name': 'St John Baptist Church', 'address': ...   \n",
       "0  {'name': 'Clark Street Brentwood', 'address': ...   \n",
       "\n",
       "                                              274994  \\\n",
       "0  {'name': 'New South Services', 'address': None...   \n",
       "0  {'name': 'Up In Smoke', 'address': 'Up In Smok...   \n",
       "\n",
       "                                              274995  \\\n",
       "0  {'name': 'Stone Castle Fence', 'address': None...   \n",
       "0  {'name': 'Slabaugh Says', 'address': 'Slabaugh...   \n",
       "\n",
       "                                              274996  \\\n",
       "0  {'name': 'Maven Realty', 'address': 'Maven Rea...   \n",
       "0  {'name': 'Quality Office Supply', 'address': '...   \n",
       "\n",
       "                                              274997  \\\n",
       "0  {'name': 'Stone Castle Fence', 'address': 'Sto...   \n",
       "0  {'name': 'JV towing', 'address': 'JV towing, 4...   \n",
       "\n",
       "                                              274998  \\\n",
       "0  {'name': 'Health Insurance Solutions Team', 'a...   \n",
       "0  {'name': 'Sisom Osia, MD (Gateway Medical Cent...   \n",
       "\n",
       "                                              274999  \\\n",
       "0  {'name': 'Bernard Building Center', 'address':...   \n",
       "0  {'name': 'Rasa Floors', 'address': 'Rasa Floor...   \n",
       "\n",
       "                                              275000  \n",
       "0  {'name': 'HMR Motor Works and Auto Care', 'add...  \n",
       "0  {'name': 'Alpha Testing, Inc.', 'address': 'Al...  \n",
       "\n",
       "[2 rows x 275001 columns]"
      ]
     },
     "execution_count": 10,
     "metadata": {},
     "output_type": "execute_result"
    }
   ],
   "source": [
    "df_metadata.head(2)"
   ]
  },
  {
   "cell_type": "code",
   "execution_count": 11,
   "metadata": {},
   "outputs": [
    {
     "ename": "KeyError",
     "evalue": "\"['address', 'state', 'relative_results', 'url', 'hours', 'description', 'price'] not found in axis\"",
     "output_type": "error",
     "traceback": [
      "\u001b[1;31m---------------------------------------------------------------------------\u001b[0m",
      "\u001b[1;31mKeyError\u001b[0m                                  Traceback (most recent call last)",
      "Cell \u001b[1;32mIn[11], line 2\u001b[0m\n\u001b[0;32m      1\u001b[0m \u001b[38;5;66;03m# Eliminamos columnas irrelevantes\u001b[39;00m\n\u001b[1;32m----> 2\u001b[0m \u001b[43mdf_metadata\u001b[49m\u001b[38;5;241;43m.\u001b[39;49m\u001b[43mdrop\u001b[49m\u001b[43m(\u001b[49m\u001b[43mcolumns\u001b[49m\u001b[38;5;241;43m=\u001b[39;49m\u001b[43m[\u001b[49m\u001b[38;5;124;43m'\u001b[39;49m\u001b[38;5;124;43maddress\u001b[39;49m\u001b[38;5;124;43m'\u001b[39;49m\u001b[43m,\u001b[49m\u001b[43m \u001b[49m\u001b[38;5;124;43m'\u001b[39;49m\u001b[38;5;124;43mstate\u001b[39;49m\u001b[38;5;124;43m'\u001b[39;49m\u001b[43m,\u001b[49m\u001b[43m \u001b[49m\u001b[38;5;124;43m'\u001b[39;49m\u001b[38;5;124;43mrelative_results\u001b[39;49m\u001b[38;5;124;43m'\u001b[39;49m\u001b[43m,\u001b[49m\u001b[43m \u001b[49m\u001b[38;5;124;43m'\u001b[39;49m\u001b[38;5;124;43murl\u001b[39;49m\u001b[38;5;124;43m'\u001b[39;49m\u001b[43m,\u001b[49m\u001b[38;5;124;43m'\u001b[39;49m\u001b[38;5;124;43mhours\u001b[39;49m\u001b[38;5;124;43m'\u001b[39;49m\u001b[43m,\u001b[49m\u001b[38;5;124;43m'\u001b[39;49m\u001b[38;5;124;43mdescription\u001b[39;49m\u001b[38;5;124;43m'\u001b[39;49m\u001b[43m,\u001b[49m\u001b[43m \u001b[49m\u001b[38;5;124;43m'\u001b[39;49m\u001b[38;5;124;43mprice\u001b[39;49m\u001b[38;5;124;43m'\u001b[39;49m\u001b[43m]\u001b[49m\u001b[43m,\u001b[49m\u001b[43m \u001b[49m\u001b[43minplace\u001b[49m\u001b[38;5;241;43m=\u001b[39;49m\u001b[38;5;28;43;01mTrue\u001b[39;49;00m\u001b[43m)\u001b[49m\n",
      "File \u001b[1;32mc:\\Users\\sebas\\AppData\\Local\\Programs\\Python\\Python39\\lib\\site-packages\\pandas\\core\\frame.py:5568\u001b[0m, in \u001b[0;36mDataFrame.drop\u001b[1;34m(self, labels, axis, index, columns, level, inplace, errors)\u001b[0m\n\u001b[0;32m   5420\u001b[0m \u001b[38;5;28;01mdef\u001b[39;00m \u001b[38;5;21mdrop\u001b[39m(\n\u001b[0;32m   5421\u001b[0m     \u001b[38;5;28mself\u001b[39m,\n\u001b[0;32m   5422\u001b[0m     labels: IndexLabel \u001b[38;5;241m|\u001b[39m \u001b[38;5;28;01mNone\u001b[39;00m \u001b[38;5;241m=\u001b[39m \u001b[38;5;28;01mNone\u001b[39;00m,\n\u001b[1;32m   (...)\u001b[0m\n\u001b[0;32m   5429\u001b[0m     errors: IgnoreRaise \u001b[38;5;241m=\u001b[39m \u001b[38;5;124m\"\u001b[39m\u001b[38;5;124mraise\u001b[39m\u001b[38;5;124m\"\u001b[39m,\n\u001b[0;32m   5430\u001b[0m ) \u001b[38;5;241m-\u001b[39m\u001b[38;5;241m>\u001b[39m DataFrame \u001b[38;5;241m|\u001b[39m \u001b[38;5;28;01mNone\u001b[39;00m:\n\u001b[0;32m   5431\u001b[0m \u001b[38;5;250m    \u001b[39m\u001b[38;5;124;03m\"\"\"\u001b[39;00m\n\u001b[0;32m   5432\u001b[0m \u001b[38;5;124;03m    Drop specified labels from rows or columns.\u001b[39;00m\n\u001b[0;32m   5433\u001b[0m \n\u001b[1;32m   (...)\u001b[0m\n\u001b[0;32m   5566\u001b[0m \u001b[38;5;124;03m            weight  1.0     0.8\u001b[39;00m\n\u001b[0;32m   5567\u001b[0m \u001b[38;5;124;03m    \"\"\"\u001b[39;00m\n\u001b[1;32m-> 5568\u001b[0m     \u001b[38;5;28;01mreturn\u001b[39;00m \u001b[38;5;28;43msuper\u001b[39;49m\u001b[43m(\u001b[49m\u001b[43m)\u001b[49m\u001b[38;5;241;43m.\u001b[39;49m\u001b[43mdrop\u001b[49m\u001b[43m(\u001b[49m\n\u001b[0;32m   5569\u001b[0m \u001b[43m        \u001b[49m\u001b[43mlabels\u001b[49m\u001b[38;5;241;43m=\u001b[39;49m\u001b[43mlabels\u001b[49m\u001b[43m,\u001b[49m\n\u001b[0;32m   5570\u001b[0m \u001b[43m        \u001b[49m\u001b[43maxis\u001b[49m\u001b[38;5;241;43m=\u001b[39;49m\u001b[43maxis\u001b[49m\u001b[43m,\u001b[49m\n\u001b[0;32m   5571\u001b[0m \u001b[43m        \u001b[49m\u001b[43mindex\u001b[49m\u001b[38;5;241;43m=\u001b[39;49m\u001b[43mindex\u001b[49m\u001b[43m,\u001b[49m\n\u001b[0;32m   5572\u001b[0m \u001b[43m        \u001b[49m\u001b[43mcolumns\u001b[49m\u001b[38;5;241;43m=\u001b[39;49m\u001b[43mcolumns\u001b[49m\u001b[43m,\u001b[49m\n\u001b[0;32m   5573\u001b[0m \u001b[43m        \u001b[49m\u001b[43mlevel\u001b[49m\u001b[38;5;241;43m=\u001b[39;49m\u001b[43mlevel\u001b[49m\u001b[43m,\u001b[49m\n\u001b[0;32m   5574\u001b[0m \u001b[43m        \u001b[49m\u001b[43minplace\u001b[49m\u001b[38;5;241;43m=\u001b[39;49m\u001b[43minplace\u001b[49m\u001b[43m,\u001b[49m\n\u001b[0;32m   5575\u001b[0m \u001b[43m        \u001b[49m\u001b[43merrors\u001b[49m\u001b[38;5;241;43m=\u001b[39;49m\u001b[43merrors\u001b[49m\u001b[43m,\u001b[49m\n\u001b[0;32m   5576\u001b[0m \u001b[43m    \u001b[49m\u001b[43m)\u001b[49m\n",
      "File \u001b[1;32mc:\\Users\\sebas\\AppData\\Local\\Programs\\Python\\Python39\\lib\\site-packages\\pandas\\core\\generic.py:4782\u001b[0m, in \u001b[0;36mNDFrame.drop\u001b[1;34m(self, labels, axis, index, columns, level, inplace, errors)\u001b[0m\n\u001b[0;32m   4780\u001b[0m \u001b[38;5;28;01mfor\u001b[39;00m axis, labels \u001b[38;5;129;01min\u001b[39;00m axes\u001b[38;5;241m.\u001b[39mitems():\n\u001b[0;32m   4781\u001b[0m     \u001b[38;5;28;01mif\u001b[39;00m labels \u001b[38;5;129;01mis\u001b[39;00m \u001b[38;5;129;01mnot\u001b[39;00m \u001b[38;5;28;01mNone\u001b[39;00m:\n\u001b[1;32m-> 4782\u001b[0m         obj \u001b[38;5;241m=\u001b[39m \u001b[43mobj\u001b[49m\u001b[38;5;241;43m.\u001b[39;49m\u001b[43m_drop_axis\u001b[49m\u001b[43m(\u001b[49m\u001b[43mlabels\u001b[49m\u001b[43m,\u001b[49m\u001b[43m \u001b[49m\u001b[43maxis\u001b[49m\u001b[43m,\u001b[49m\u001b[43m \u001b[49m\u001b[43mlevel\u001b[49m\u001b[38;5;241;43m=\u001b[39;49m\u001b[43mlevel\u001b[49m\u001b[43m,\u001b[49m\u001b[43m \u001b[49m\u001b[43merrors\u001b[49m\u001b[38;5;241;43m=\u001b[39;49m\u001b[43merrors\u001b[49m\u001b[43m)\u001b[49m\n\u001b[0;32m   4784\u001b[0m \u001b[38;5;28;01mif\u001b[39;00m inplace:\n\u001b[0;32m   4785\u001b[0m     \u001b[38;5;28mself\u001b[39m\u001b[38;5;241m.\u001b[39m_update_inplace(obj)\n",
      "File \u001b[1;32mc:\\Users\\sebas\\AppData\\Local\\Programs\\Python\\Python39\\lib\\site-packages\\pandas\\core\\generic.py:4824\u001b[0m, in \u001b[0;36mNDFrame._drop_axis\u001b[1;34m(self, labels, axis, level, errors, only_slice)\u001b[0m\n\u001b[0;32m   4822\u001b[0m         new_axis \u001b[38;5;241m=\u001b[39m axis\u001b[38;5;241m.\u001b[39mdrop(labels, level\u001b[38;5;241m=\u001b[39mlevel, errors\u001b[38;5;241m=\u001b[39merrors)\n\u001b[0;32m   4823\u001b[0m     \u001b[38;5;28;01melse\u001b[39;00m:\n\u001b[1;32m-> 4824\u001b[0m         new_axis \u001b[38;5;241m=\u001b[39m \u001b[43maxis\u001b[49m\u001b[38;5;241;43m.\u001b[39;49m\u001b[43mdrop\u001b[49m\u001b[43m(\u001b[49m\u001b[43mlabels\u001b[49m\u001b[43m,\u001b[49m\u001b[43m \u001b[49m\u001b[43merrors\u001b[49m\u001b[38;5;241;43m=\u001b[39;49m\u001b[43merrors\u001b[49m\u001b[43m)\u001b[49m\n\u001b[0;32m   4825\u001b[0m     indexer \u001b[38;5;241m=\u001b[39m axis\u001b[38;5;241m.\u001b[39mget_indexer(new_axis)\n\u001b[0;32m   4827\u001b[0m \u001b[38;5;66;03m# Case for non-unique axis\u001b[39;00m\n\u001b[0;32m   4828\u001b[0m \u001b[38;5;28;01melse\u001b[39;00m:\n",
      "File \u001b[1;32mc:\\Users\\sebas\\AppData\\Local\\Programs\\Python\\Python39\\lib\\site-packages\\pandas\\core\\indexes\\base.py:7069\u001b[0m, in \u001b[0;36mIndex.drop\u001b[1;34m(self, labels, errors)\u001b[0m\n\u001b[0;32m   7067\u001b[0m \u001b[38;5;28;01mif\u001b[39;00m mask\u001b[38;5;241m.\u001b[39many():\n\u001b[0;32m   7068\u001b[0m     \u001b[38;5;28;01mif\u001b[39;00m errors \u001b[38;5;241m!=\u001b[39m \u001b[38;5;124m\"\u001b[39m\u001b[38;5;124mignore\u001b[39m\u001b[38;5;124m\"\u001b[39m:\n\u001b[1;32m-> 7069\u001b[0m         \u001b[38;5;28;01mraise\u001b[39;00m \u001b[38;5;167;01mKeyError\u001b[39;00m(\u001b[38;5;124mf\u001b[39m\u001b[38;5;124m\"\u001b[39m\u001b[38;5;132;01m{\u001b[39;00mlabels[mask]\u001b[38;5;241m.\u001b[39mtolist()\u001b[38;5;132;01m}\u001b[39;00m\u001b[38;5;124m not found in axis\u001b[39m\u001b[38;5;124m\"\u001b[39m)\n\u001b[0;32m   7070\u001b[0m     indexer \u001b[38;5;241m=\u001b[39m indexer[\u001b[38;5;241m~\u001b[39mmask]\n\u001b[0;32m   7071\u001b[0m \u001b[38;5;28;01mreturn\u001b[39;00m \u001b[38;5;28mself\u001b[39m\u001b[38;5;241m.\u001b[39mdelete(indexer)\n",
      "\u001b[1;31mKeyError\u001b[0m: \"['address', 'state', 'relative_results', 'url', 'hours', 'description', 'price'] not found in axis\""
     ]
    }
   ],
   "source": [
    "# Eliminamos columnas irrelevantes\n",
    "df_metadata.drop(columns=['address', 'state', 'relative_results', 'url','hours','description', 'price'], inplace=True)"
   ]
  },
  {
   "cell_type": "code",
   "execution_count": null,
   "metadata": {},
   "outputs": [],
   "source": [
    "from pandas import json_normalize \n",
    "\n",
    "# Desanidar los datos de la columna \"MISC\"\n",
    "df_desanidado = json_normalize(df_metadata['MISC'])"
   ]
  },
  {
   "cell_type": "code",
   "execution_count": null,
   "metadata": {},
   "outputs": [],
   "source": [
    "# Vamos a trabajar con una copia de metadata para crear una posible tabla \"miselaneos\"\n",
    "gmap_id = df_metadata.copy()\n",
    "\n",
    "# Resetear el índice del DataFrame df_gmap_id\n",
    "gmap_id.reset_index(drop=True, inplace=True)\n",
    "\n",
    "# Combinar los DataFrames desanidados\n",
    "miselaneos = pd.concat([gmap_id, df_desanidado], axis=1)"
   ]
  },
  {
   "cell_type": "code",
   "execution_count": null,
   "metadata": {},
   "outputs": [],
   "source": [
    "# Eliminamos columna MISC\n",
    "df_metadata.drop(columns=['MISC'], inplace=True)"
   ]
  },
  {
   "cell_type": "code",
   "execution_count": null,
   "metadata": {},
   "outputs": [],
   "source": [
    "# Creamos funcion para quedarnos con la primera categoria en la columna category\n",
    "def primer_categoria(lista):\n",
    "    if lista and len(lista) >= 1:\n",
    "        return lista[0]\n",
    "    else:\n",
    "        return None  \n",
    "\n",
    "# Aplicar la función a cada fila de la columna 'category'\n",
    "df_metadata['categoria'] = df_metadata['category'].apply(primer_categoria)"
   ]
  },
  {
   "cell_type": "code",
   "execution_count": null,
   "metadata": {},
   "outputs": [],
   "source": [
    "# Eliminamos columna category\n",
    "df_metadata.drop(columns=['category'], inplace=True)"
   ]
  },
  {
   "cell_type": "code",
   "execution_count": null,
   "metadata": {},
   "outputs": [],
   "source": [
    "# Volvemos a nombrar la columna categoria por category por coherencia linguistica\n",
    "df_metadata.rename(columns={'categoria': 'category'}, inplace=True)"
   ]
  },
  {
   "cell_type": "code",
   "execution_count": null,
   "metadata": {},
   "outputs": [
    {
     "data": {
      "text/plain": [
       "False    2173428\n",
       "True       26580\n",
       "Name: count, dtype: int64"
      ]
     },
     "execution_count": 39,
     "metadata": {},
     "output_type": "execute_result"
    }
   ],
   "source": [
    "# Verificar si hay valores duplicados\n",
    "df_metadata.duplicated().value_counts()"
   ]
  },
  {
   "cell_type": "code",
   "execution_count": null,
   "metadata": {},
   "outputs": [],
   "source": [
    "# Eliminamos duplicados\n",
    "df_metadata.drop_duplicates(inplace=True)"
   ]
  },
  {
   "cell_type": "code",
   "execution_count": null,
   "metadata": {},
   "outputs": [
    {
     "data": {
      "text/plain": [
       "name                 31\n",
       "gmap_id               0\n",
       "latitude              0\n",
       "longitude             0\n",
       "avg_rating            0\n",
       "num_of_reviews        0\n",
       "categoria         13945\n",
       "dtype: int64"
      ]
     },
     "execution_count": 41,
     "metadata": {},
     "output_type": "execute_result"
    }
   ],
   "source": [
    "# Verificar si hay valores nulos\n",
    "df_metadata.isnull().sum()"
   ]
  },
  {
   "cell_type": "code",
   "execution_count": null,
   "metadata": {},
   "outputs": [
    {
     "data": {
      "text/plain": [
       "name              0\n",
       "gmap_id           0\n",
       "latitude          0\n",
       "longitude         0\n",
       "avg_rating        0\n",
       "num_of_reviews    0\n",
       "categoria         0\n",
       "dtype: int64"
      ]
     },
     "execution_count": 43,
     "metadata": {},
     "output_type": "execute_result"
    }
   ],
   "source": [
    "# Eliminar filas con valores nulos en las columnas 'categoria_1' y 'name'\n",
    "df_metadata = df_metadata.dropna(subset=['categoria', 'name'])\n",
    "\n",
    "# Verificamos nuevamente\n",
    "df_metadata.isnull().sum()\n"
   ]
  },
  {
   "cell_type": "code",
   "execution_count": null,
   "metadata": {},
   "outputs": [
    {
     "name": "stderr",
     "output_type": "stream",
     "text": [
      "C:\\Users\\sebas\\AppData\\Local\\Temp\\ipykernel_27776\\1262992948.py:2: SettingWithCopyWarning: \n",
      "A value is trying to be set on a copy of a slice from a DataFrame\n",
      "\n",
      "See the caveats in the documentation: https://pandas.pydata.org/pandas-docs/stable/user_guide/indexing.html#returning-a-view-versus-a-copy\n",
      "  df_metadata.rename(columns={'gmap_id': 'business_id'}, inplace=True)\n"
     ]
    }
   ],
   "source": [
    "# cambio el nombre de la columna gmap_id a business_id \n",
    "df_metadata.rename(columns={'gmap_id': 'business_id'}, inplace=True)"
   ]
  },
  {
   "cell_type": "code",
   "execution_count": null,
   "metadata": {},
   "outputs": [],
   "source": [
    "# Verificamos tamaño de dataset\n",
    "df_metadata.shape"
   ]
  },
  {
   "cell_type": "code",
   "execution_count": null,
   "metadata": {},
   "outputs": [
    {
     "data": {
      "text/html": [
       "<div>\n",
       "<style scoped>\n",
       "    .dataframe tbody tr th:only-of-type {\n",
       "        vertical-align: middle;\n",
       "    }\n",
       "\n",
       "    .dataframe tbody tr th {\n",
       "        vertical-align: top;\n",
       "    }\n",
       "\n",
       "    .dataframe thead th {\n",
       "        text-align: right;\n",
       "    }\n",
       "</style>\n",
       "<table border=\"1\" class=\"dataframe\">\n",
       "  <thead>\n",
       "    <tr style=\"text-align: right;\">\n",
       "      <th></th>\n",
       "      <th>name</th>\n",
       "      <th>business_id</th>\n",
       "      <th>latitude</th>\n",
       "      <th>longitude</th>\n",
       "      <th>avg_rating</th>\n",
       "      <th>num_of_reviews</th>\n",
       "      <th>categoria</th>\n",
       "    </tr>\n",
       "  </thead>\n",
       "  <tbody>\n",
       "    <tr>\n",
       "      <th>0</th>\n",
       "      <td>Porter Pharmacy</td>\n",
       "      <td>0x88f16e41928ff687:0x883dad4fd048e8f8</td>\n",
       "      <td>32.388300</td>\n",
       "      <td>-83.35710</td>\n",
       "      <td>4.9</td>\n",
       "      <td>16</td>\n",
       "      <td>Pharmacy</td>\n",
       "    </tr>\n",
       "    <tr>\n",
       "      <th>1</th>\n",
       "      <td>City Textile</td>\n",
       "      <td>0x80c2c98c0e3c16fd:0x29ec8a728764fdf9</td>\n",
       "      <td>34.018891</td>\n",
       "      <td>-118.21529</td>\n",
       "      <td>4.5</td>\n",
       "      <td>6</td>\n",
       "      <td>Textile exporter</td>\n",
       "    </tr>\n",
       "  </tbody>\n",
       "</table>\n",
       "</div>"
      ],
      "text/plain": [
       "              name                            business_id   latitude  \\\n",
       "0  Porter Pharmacy  0x88f16e41928ff687:0x883dad4fd048e8f8  32.388300   \n",
       "1     City Textile  0x80c2c98c0e3c16fd:0x29ec8a728764fdf9  34.018891   \n",
       "\n",
       "   longitude  avg_rating  num_of_reviews         categoria  \n",
       "0  -83.35710         4.9              16          Pharmacy  \n",
       "1 -118.21529         4.5               6  Textile exporter  "
      ]
     },
     "execution_count": 45,
     "metadata": {},
     "output_type": "execute_result"
    }
   ],
   "source": [
    "# Observamos resultados\n",
    "df_metadata.head(2)"
   ]
  },
  {
   "cell_type": "code",
   "execution_count": null,
   "metadata": {},
   "outputs": [],
   "source": [
    "# Exportamos el dataset\n",
    "df_metadata.to_csv('metadata.csv', index=False)\n",
    "df_metadata.to_parquet('metadata.parquet')"
   ]
  }
 ],
 "metadata": {
  "kernelspec": {
   "display_name": "Python 3",
   "language": "python",
   "name": "python3"
  },
  "language_info": {
   "codemirror_mode": {
    "name": "ipython",
    "version": 3
   },
   "file_extension": ".py",
   "mimetype": "text/x-python",
   "name": "python",
   "nbconvert_exporter": "python",
   "pygments_lexer": "ipython3",
   "version": "3.9.0"
  }
 },
 "nbformat": 4,
 "nbformat_minor": 2
}

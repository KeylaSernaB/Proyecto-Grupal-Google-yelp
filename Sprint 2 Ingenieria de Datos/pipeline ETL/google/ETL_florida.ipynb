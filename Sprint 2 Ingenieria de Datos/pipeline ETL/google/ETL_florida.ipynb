{
 "cells": [
  {
   "cell_type": "markdown",
   "metadata": {},
   "source": [
    "# ETL "
   ]
  },
  {
   "cell_type": "code",
   "execution_count": 1,
   "metadata": {},
   "outputs": [],
   "source": [
    "# importamos librerias\n",
    "import os\n",
    "import pandas as pd"
   ]
  },
  {
   "cell_type": "code",
   "execution_count": 2,
   "metadata": {},
   "outputs": [
    {
     "name": "stdout",
     "output_type": "stream",
     "text": [
      "Cargando data 1.json ...\n",
      "Cargando data 10.json ...\n",
      "Cargando data 11.json ...\n",
      "Cargando data 12.json ...\n",
      "Cargando data 13.json ...\n",
      "Cargando data 14.json ...\n",
      "Cargando data 15.json ...\n",
      "Cargando data 16.json ...\n",
      "Cargando data 17.json ...\n",
      "Cargando data 18.json ...\n",
      "Cargando data 19.json ...\n",
      "Cargando data 2.json ...\n",
      "Cargando data 3.json ...\n",
      "Cargando data 4.json ...\n",
      "Cargando data 5.json ...\n",
      "Cargando data 6.json ...\n",
      "Cargando data 7.json ...\n",
      "Cargando data 8.json ...\n",
      "Cargando data 9.json ...\n"
     ]
    }
   ],
   "source": [
    "\n",
    "\n",
    "# Obtener la ruta del directorio donde está ubicado el notebook\n",
    "directorio_notebook = os.getcwd()\n",
    "\n",
    "# Nombre de la carpeta que contiene los archivos JSON\n",
    "nombre_carpeta = \"florida_data\"\n",
    "\n",
    "# Construir la ruta completa a la carpeta que contiene los archivos JSON\n",
    "ruta_carpeta = os.path.join(directorio_notebook, nombre_carpeta)\n",
    "\n",
    "# Creamos una lista con todos los archivos .json en la carpeta\n",
    "archivos = os.listdir(ruta_carpeta)\n",
    "\n",
    "# Creamos un DataFrame vacío para almacenar los datos\n",
    "df = pd.DataFrame()\n",
    "\n",
    "# Iteramos sobre los archivos en la lista de archivos\n",
    "for archivo in archivos:\n",
    "    # Verificamos que el archivo cuente con la extensión .json\n",
    "    if archivo.endswith('.json'):\n",
    "        # Construimos la ruta completa al archivo\n",
    "        ruta_completa = os.path.join(ruta_carpeta, archivo)\n",
    "        # Leer el archivo JSON y cargarlo en un DataFrame\n",
    "        data = pd.read_json(ruta_completa, lines=True)\n",
    "        # Concatenar los datos del archivo al DataFrame principal\n",
    "        df = pd.concat([df, data], axis=0)\n",
    "\n"
   ]
  },
  {
   "cell_type": "code",
   "execution_count": 2,
   "metadata": {},
   "outputs": [
    {
     "data": {
      "text/html": [
       "<div>\n",
       "<style scoped>\n",
       "    .dataframe tbody tr th:only-of-type {\n",
       "        vertical-align: middle;\n",
       "    }\n",
       "\n",
       "    .dataframe tbody tr th {\n",
       "        vertical-align: top;\n",
       "    }\n",
       "\n",
       "    .dataframe thead th {\n",
       "        text-align: right;\n",
       "    }\n",
       "</style>\n",
       "<table border=\"1\" class=\"dataframe\">\n",
       "  <thead>\n",
       "    <tr style=\"text-align: right;\">\n",
       "      <th></th>\n",
       "      <th>user_id</th>\n",
       "      <th>name</th>\n",
       "      <th>time</th>\n",
       "      <th>rating</th>\n",
       "      <th>text</th>\n",
       "      <th>pics</th>\n",
       "      <th>resp</th>\n",
       "      <th>gmap_id</th>\n",
       "    </tr>\n",
       "  </thead>\n",
       "  <tbody>\n",
       "    <tr>\n",
       "      <th>0</th>\n",
       "      <td>1.014719e+20</td>\n",
       "      <td>Julie A. Gerber</td>\n",
       "      <td>1628003250740</td>\n",
       "      <td>1</td>\n",
       "      <td>Update: Their “reply” to my review amounted to...</td>\n",
       "      <td>None</td>\n",
       "      <td>{'time': 1627042799532, 'text': 'Thank you for...</td>\n",
       "      <td>0x8893863ea87bd5dd:0x9383ebf973e74abb</td>\n",
       "    </tr>\n",
       "    <tr>\n",
       "      <th>1</th>\n",
       "      <td>1.154772e+20</td>\n",
       "      <td>Martin Sheffield</td>\n",
       "      <td>1595031217005</td>\n",
       "      <td>5</td>\n",
       "      <td>He's a knowledgeable doctor but the way he run...</td>\n",
       "      <td>None</td>\n",
       "      <td>{'time': 1582464056733, 'text': 'Thank you for...</td>\n",
       "      <td>0x8893863ea87bd5dd:0x9383ebf973e74abb</td>\n",
       "    </tr>\n",
       "    <tr>\n",
       "      <th>2</th>\n",
       "      <td>1.018050e+20</td>\n",
       "      <td>Brian Truett</td>\n",
       "      <td>1522924253567</td>\n",
       "      <td>5</td>\n",
       "      <td>Best doctor I've ever had, I never wait to be ...</td>\n",
       "      <td>None</td>\n",
       "      <td>None</td>\n",
       "      <td>0x8893863ea87bd5dd:0x9383ebf973e74abb</td>\n",
       "    </tr>\n",
       "    <tr>\n",
       "      <th>3</th>\n",
       "      <td>1.063444e+20</td>\n",
       "      <td>Tina Sun</td>\n",
       "      <td>1467907819586</td>\n",
       "      <td>1</td>\n",
       "      <td>I was told he is a good doctor. I was trying t...</td>\n",
       "      <td>None</td>\n",
       "      <td>None</td>\n",
       "      <td>0x8893863ea87bd5dd:0x9383ebf973e74abb</td>\n",
       "    </tr>\n",
       "    <tr>\n",
       "      <th>4</th>\n",
       "      <td>1.008751e+20</td>\n",
       "      <td>James Haynes</td>\n",
       "      <td>1480683415081</td>\n",
       "      <td>5</td>\n",
       "      <td>Takes the time to actually get to know his pat...</td>\n",
       "      <td>None</td>\n",
       "      <td>None</td>\n",
       "      <td>0x8893863ea87bd5dd:0x9383ebf973e74abb</td>\n",
       "    </tr>\n",
       "    <tr>\n",
       "      <th>5</th>\n",
       "      <td>1.034388e+20</td>\n",
       "      <td>Rosa Lazaro</td>\n",
       "      <td>1540086464316</td>\n",
       "      <td>5</td>\n",
       "      <td>Very good doctor</td>\n",
       "      <td>None</td>\n",
       "      <td>None</td>\n",
       "      <td>0x8893863ea87bd5dd:0x9383ebf973e74abb</td>\n",
       "    </tr>\n",
       "  </tbody>\n",
       "</table>\n",
       "</div>"
      ],
      "text/plain": [
       "        user_id              name           time  rating  \\\n",
       "0  1.014719e+20   Julie A. Gerber  1628003250740       1   \n",
       "1  1.154772e+20  Martin Sheffield  1595031217005       5   \n",
       "2  1.018050e+20      Brian Truett  1522924253567       5   \n",
       "3  1.063444e+20          Tina Sun  1467907819586       1   \n",
       "4  1.008751e+20      James Haynes  1480683415081       5   \n",
       "5  1.034388e+20       Rosa Lazaro  1540086464316       5   \n",
       "\n",
       "                                                text  pics  \\\n",
       "0  Update: Their “reply” to my review amounted to...  None   \n",
       "1  He's a knowledgeable doctor but the way he run...  None   \n",
       "2  Best doctor I've ever had, I never wait to be ...  None   \n",
       "3  I was told he is a good doctor. I was trying t...  None   \n",
       "4  Takes the time to actually get to know his pat...  None   \n",
       "5                                   Very good doctor  None   \n",
       "\n",
       "                                                resp  \\\n",
       "0  {'time': 1627042799532, 'text': 'Thank you for...   \n",
       "1  {'time': 1582464056733, 'text': 'Thank you for...   \n",
       "2                                               None   \n",
       "3                                               None   \n",
       "4                                               None   \n",
       "5                                               None   \n",
       "\n",
       "                                 gmap_id  \n",
       "0  0x8893863ea87bd5dd:0x9383ebf973e74abb  \n",
       "1  0x8893863ea87bd5dd:0x9383ebf973e74abb  \n",
       "2  0x8893863ea87bd5dd:0x9383ebf973e74abb  \n",
       "3  0x8893863ea87bd5dd:0x9383ebf973e74abb  \n",
       "4  0x8893863ea87bd5dd:0x9383ebf973e74abb  \n",
       "5  0x8893863ea87bd5dd:0x9383ebf973e74abb  "
      ]
     },
     "execution_count": 2,
     "metadata": {},
     "output_type": "execute_result"
    }
   ],
   "source": [
    "# Visualizamos el data frame \n",
    "df.head(6)"
   ]
  },
  {
   "cell_type": "code",
   "execution_count": 3,
   "metadata": {},
   "outputs": [],
   "source": [
    "#Elimino la columna pics y resp \n",
    "df = df.drop(['pics','resp'],axis=1)"
   ]
  },
  {
   "cell_type": "code",
   "execution_count": 4,
   "metadata": {},
   "outputs": [],
   "source": [
    "\n",
    "# elimino duplicados del df \n",
    "df_sin_duplicados = df.drop_duplicates()\n",
    "\n",
    "#elimino nulos \n",
    "df_clean = df_sin_duplicados.dropna(subset=['text'])"
   ]
  },
  {
   "cell_type": "code",
   "execution_count": 5,
   "metadata": {},
   "outputs": [
    {
     "name": "stderr",
     "output_type": "stream",
     "text": [
      "C:\\Users\\sebas\\AppData\\Local\\Temp\\ipykernel_26560\\513605724.py:7: SettingWithCopyWarning: \n",
      "A value is trying to be set on a copy of a slice from a DataFrame.\n",
      "Try using .loc[row_indexer,col_indexer] = value instead\n",
      "\n",
      "See the caveats in the documentation: https://pandas.pydata.org/pandas-docs/stable/user_guide/indexing.html#returning-a-view-versus-a-copy\n",
      "  df_clean['time_normalizado']=times\n"
     ]
    }
   ],
   "source": [
    "import datetime\n",
    "\n",
    "# Normalizamos la columna time creando la columna time_normalizado con la fecha en el formato %d/%m/%y %H:%M:%S \n",
    "times = [] \n",
    "for data in df_clean['time']/1000 :\n",
    "    times.append(datetime.datetime.utcfromtimestamp(data).strftime('%d/%m/%y %H:%M:%S'))\n",
    "df_clean['time_normalizado']=times"
   ]
  },
  {
   "cell_type": "code",
   "execution_count": 6,
   "metadata": {},
   "outputs": [
    {
     "data": {
      "text/html": [
       "<div>\n",
       "<style scoped>\n",
       "    .dataframe tbody tr th:only-of-type {\n",
       "        vertical-align: middle;\n",
       "    }\n",
       "\n",
       "    .dataframe tbody tr th {\n",
       "        vertical-align: top;\n",
       "    }\n",
       "\n",
       "    .dataframe thead th {\n",
       "        text-align: right;\n",
       "    }\n",
       "</style>\n",
       "<table border=\"1\" class=\"dataframe\">\n",
       "  <thead>\n",
       "    <tr style=\"text-align: right;\">\n",
       "      <th></th>\n",
       "      <th>user_id</th>\n",
       "      <th>name</th>\n",
       "      <th>time</th>\n",
       "      <th>rating</th>\n",
       "      <th>text</th>\n",
       "      <th>gmap_id</th>\n",
       "      <th>time_normalizado</th>\n",
       "    </tr>\n",
       "  </thead>\n",
       "  <tbody>\n",
       "    <tr>\n",
       "      <th>0</th>\n",
       "      <td>1.014719e+20</td>\n",
       "      <td>Julie A. Gerber</td>\n",
       "      <td>1628003250740</td>\n",
       "      <td>1</td>\n",
       "      <td>Update: Their “reply” to my review amounted to...</td>\n",
       "      <td>0x8893863ea87bd5dd:0x9383ebf973e74abb</td>\n",
       "      <td>03/08/21 15:07:30</td>\n",
       "    </tr>\n",
       "    <tr>\n",
       "      <th>1</th>\n",
       "      <td>1.154772e+20</td>\n",
       "      <td>Martin Sheffield</td>\n",
       "      <td>1595031217005</td>\n",
       "      <td>5</td>\n",
       "      <td>He's a knowledgeable doctor but the way he run...</td>\n",
       "      <td>0x8893863ea87bd5dd:0x9383ebf973e74abb</td>\n",
       "      <td>18/07/20 00:13:37</td>\n",
       "    </tr>\n",
       "    <tr>\n",
       "      <th>2</th>\n",
       "      <td>1.018050e+20</td>\n",
       "      <td>Brian Truett</td>\n",
       "      <td>1522924253567</td>\n",
       "      <td>5</td>\n",
       "      <td>Best doctor I've ever had, I never wait to be ...</td>\n",
       "      <td>0x8893863ea87bd5dd:0x9383ebf973e74abb</td>\n",
       "      <td>05/04/18 10:30:53</td>\n",
       "    </tr>\n",
       "    <tr>\n",
       "      <th>3</th>\n",
       "      <td>1.063444e+20</td>\n",
       "      <td>Tina Sun</td>\n",
       "      <td>1467907819586</td>\n",
       "      <td>1</td>\n",
       "      <td>I was told he is a good doctor. I was trying t...</td>\n",
       "      <td>0x8893863ea87bd5dd:0x9383ebf973e74abb</td>\n",
       "      <td>07/07/16 16:10:19</td>\n",
       "    </tr>\n",
       "    <tr>\n",
       "      <th>4</th>\n",
       "      <td>1.008751e+20</td>\n",
       "      <td>James Haynes</td>\n",
       "      <td>1480683415081</td>\n",
       "      <td>5</td>\n",
       "      <td>Takes the time to actually get to know his pat...</td>\n",
       "      <td>0x8893863ea87bd5dd:0x9383ebf973e74abb</td>\n",
       "      <td>02/12/16 12:56:55</td>\n",
       "    </tr>\n",
       "    <tr>\n",
       "      <th>5</th>\n",
       "      <td>1.034388e+20</td>\n",
       "      <td>Rosa Lazaro</td>\n",
       "      <td>1540086464316</td>\n",
       "      <td>5</td>\n",
       "      <td>Very good doctor</td>\n",
       "      <td>0x8893863ea87bd5dd:0x9383ebf973e74abb</td>\n",
       "      <td>21/10/18 01:47:44</td>\n",
       "    </tr>\n",
       "  </tbody>\n",
       "</table>\n",
       "</div>"
      ],
      "text/plain": [
       "        user_id              name           time  rating  \\\n",
       "0  1.014719e+20   Julie A. Gerber  1628003250740       1   \n",
       "1  1.154772e+20  Martin Sheffield  1595031217005       5   \n",
       "2  1.018050e+20      Brian Truett  1522924253567       5   \n",
       "3  1.063444e+20          Tina Sun  1467907819586       1   \n",
       "4  1.008751e+20      James Haynes  1480683415081       5   \n",
       "5  1.034388e+20       Rosa Lazaro  1540086464316       5   \n",
       "\n",
       "                                                text  \\\n",
       "0  Update: Their “reply” to my review amounted to...   \n",
       "1  He's a knowledgeable doctor but the way he run...   \n",
       "2  Best doctor I've ever had, I never wait to be ...   \n",
       "3  I was told he is a good doctor. I was trying t...   \n",
       "4  Takes the time to actually get to know his pat...   \n",
       "5                                   Very good doctor   \n",
       "\n",
       "                                 gmap_id   time_normalizado  \n",
       "0  0x8893863ea87bd5dd:0x9383ebf973e74abb  03/08/21 15:07:30  \n",
       "1  0x8893863ea87bd5dd:0x9383ebf973e74abb  18/07/20 00:13:37  \n",
       "2  0x8893863ea87bd5dd:0x9383ebf973e74abb  05/04/18 10:30:53  \n",
       "3  0x8893863ea87bd5dd:0x9383ebf973e74abb  07/07/16 16:10:19  \n",
       "4  0x8893863ea87bd5dd:0x9383ebf973e74abb  02/12/16 12:56:55  \n",
       "5  0x8893863ea87bd5dd:0x9383ebf973e74abb  21/10/18 01:47:44  "
      ]
     },
     "execution_count": 6,
     "metadata": {},
     "output_type": "execute_result"
    }
   ],
   "source": [
    "df_clean.head(6)"
   ]
  },
  {
   "cell_type": "code",
   "execution_count": 6,
   "metadata": {},
   "outputs": [
    {
     "name": "stderr",
     "output_type": "stream",
     "text": [
      "C:\\Users\\sebas\\AppData\\Local\\Temp\\ipykernel_26560\\315341314.py:2: UserWarning: Could not infer format, so each element will be parsed individually, falling back to `dateutil`. To ensure parsing is consistent and as-expected, please specify a format.\n",
      "  df_clean['time_normalizado'] = pd.to_datetime(df_clean['time_normalizado'])\n",
      "C:\\Users\\sebas\\AppData\\Local\\Temp\\ipykernel_26560\\315341314.py:2: SettingWithCopyWarning: \n",
      "A value is trying to be set on a copy of a slice from a DataFrame.\n",
      "Try using .loc[row_indexer,col_indexer] = value instead\n",
      "\n",
      "See the caveats in the documentation: https://pandas.pydata.org/pandas-docs/stable/user_guide/indexing.html#returning-a-view-versus-a-copy\n",
      "  df_clean['time_normalizado'] = pd.to_datetime(df_clean['time_normalizado'])\n"
     ]
    }
   ],
   "source": [
    "# Cambiamos el valor de la columna time_normalizado de object a datetime \n",
    "df_clean['time_normalizado'] = pd.to_datetime(df_clean['time_normalizado'])"
   ]
  },
  {
   "cell_type": "code",
   "execution_count": 7,
   "metadata": {},
   "outputs": [
    {
     "data": {
      "text/plain": [
       "user_id                    float64\n",
       "name                        object\n",
       "time                         int64\n",
       "rating                       int64\n",
       "text                        object\n",
       "gmap_id                     object\n",
       "time_normalizado    datetime64[ns]\n",
       "dtype: object"
      ]
     },
     "execution_count": 7,
     "metadata": {},
     "output_type": "execute_result"
    }
   ],
   "source": [
    "# Verificamos el cambio \n",
    "df_clean.dtypes"
   ]
  },
  {
   "cell_type": "code",
   "execution_count": 8,
   "metadata": {},
   "outputs": [
    {
     "name": "stderr",
     "output_type": "stream",
     "text": [
      "C:\\Users\\sebas\\AppData\\Local\\Temp\\ipykernel_26560\\1958986005.py:2: SettingWithCopyWarning: \n",
      "A value is trying to be set on a copy of a slice from a DataFrame.\n",
      "Try using .loc[row_indexer,col_indexer] = value instead\n",
      "\n",
      "See the caveats in the documentation: https://pandas.pydata.org/pandas-docs/stable/user_guide/indexing.html#returning-a-view-versus-a-copy\n",
      "  df_clean[\"year\"] = df_clean[\"time_normalizado\"].dt.year\n"
     ]
    }
   ],
   "source": [
    "# Extraer el año de la columna \"time_normalizado\" y crear una nueva columna \"year\"\n",
    "df_clean[\"year\"] = df_clean[\"time_normalizado\"].dt.year\n"
   ]
  },
  {
   "cell_type": "code",
   "execution_count": 9,
   "metadata": {},
   "outputs": [],
   "source": [
    "# Valores que deseas conservar en la columna \"year\"\n",
    "valores_a_mantener = [2014, 2015, 2016 , 2017, 2018 , 2019 , 2020 , 2021]\n",
    "\n",
    "# Eliminar los valores de la columna \"year\" que no están en la lista de valores_a_mantener\n",
    "df_clean1 = df_clean[df_clean[\"year\"].isin(valores_a_mantener)]"
   ]
  },
  {
   "cell_type": "code",
   "execution_count": 10,
   "metadata": {},
   "outputs": [],
   "source": [
    "# eliminamos la columna year\n",
    "df_final_florida = df_clean1.drop(['year'],axis=1)"
   ]
  },
  {
   "cell_type": "code",
   "execution_count": 11,
   "metadata": {},
   "outputs": [
    {
     "data": {
      "text/plain": [
       "(1649037, 7)"
      ]
     },
     "execution_count": 11,
     "metadata": {},
     "output_type": "execute_result"
    }
   ],
   "source": [
    "# verificamos el tamaño del df\n",
    "df_final_florida.shape"
   ]
  },
  {
   "cell_type": "code",
   "execution_count": 20,
   "metadata": {},
   "outputs": [],
   "source": [
    "# cambio el nombre de la columna gmap_id a business_id y time_normalizado a date\n",
    "df_final_florida.rename(columns={'gmap_id': 'business_id', 'time_normalizado': 'timestamp'}, inplace=True)\n"
   ]
  },
  {
   "cell_type": "code",
   "execution_count": 21,
   "metadata": {},
   "outputs": [
    {
     "data": {
      "text/html": [
       "<div>\n",
       "<style scoped>\n",
       "    .dataframe tbody tr th:only-of-type {\n",
       "        vertical-align: middle;\n",
       "    }\n",
       "\n",
       "    .dataframe tbody tr th {\n",
       "        vertical-align: top;\n",
       "    }\n",
       "\n",
       "    .dataframe thead th {\n",
       "        text-align: right;\n",
       "    }\n",
       "</style>\n",
       "<table border=\"1\" class=\"dataframe\">\n",
       "  <thead>\n",
       "    <tr style=\"text-align: right;\">\n",
       "      <th></th>\n",
       "      <th>user_id</th>\n",
       "      <th>name</th>\n",
       "      <th>time</th>\n",
       "      <th>rating</th>\n",
       "      <th>text</th>\n",
       "      <th>business_id</th>\n",
       "      <th>timestamp</th>\n",
       "    </tr>\n",
       "  </thead>\n",
       "  <tbody>\n",
       "    <tr>\n",
       "      <th>0</th>\n",
       "      <td>1.014719e+20</td>\n",
       "      <td>Julie A. Gerber</td>\n",
       "      <td>1628003250740</td>\n",
       "      <td>1</td>\n",
       "      <td>Update: Their “reply” to my review amounted to...</td>\n",
       "      <td>0x8893863ea87bd5dd:0x9383ebf973e74abb</td>\n",
       "      <td>2021-03-08 15:07:30</td>\n",
       "    </tr>\n",
       "    <tr>\n",
       "      <th>1</th>\n",
       "      <td>1.154772e+20</td>\n",
       "      <td>Martin Sheffield</td>\n",
       "      <td>1595031217005</td>\n",
       "      <td>5</td>\n",
       "      <td>He's a knowledgeable doctor but the way he run...</td>\n",
       "      <td>0x8893863ea87bd5dd:0x9383ebf973e74abb</td>\n",
       "      <td>2020-07-18 00:13:37</td>\n",
       "    </tr>\n",
       "    <tr>\n",
       "      <th>2</th>\n",
       "      <td>1.018050e+20</td>\n",
       "      <td>Brian Truett</td>\n",
       "      <td>1522924253567</td>\n",
       "      <td>5</td>\n",
       "      <td>Best doctor I've ever had, I never wait to be ...</td>\n",
       "      <td>0x8893863ea87bd5dd:0x9383ebf973e74abb</td>\n",
       "      <td>2018-05-04 10:30:53</td>\n",
       "    </tr>\n",
       "  </tbody>\n",
       "</table>\n",
       "</div>"
      ],
      "text/plain": [
       "        user_id              name           time  rating  \\\n",
       "0  1.014719e+20   Julie A. Gerber  1628003250740       1   \n",
       "1  1.154772e+20  Martin Sheffield  1595031217005       5   \n",
       "2  1.018050e+20      Brian Truett  1522924253567       5   \n",
       "\n",
       "                                                text  \\\n",
       "0  Update: Their “reply” to my review amounted to...   \n",
       "1  He's a knowledgeable doctor but the way he run...   \n",
       "2  Best doctor I've ever had, I never wait to be ...   \n",
       "\n",
       "                             business_id           timestamp  \n",
       "0  0x8893863ea87bd5dd:0x9383ebf973e74abb 2021-03-08 15:07:30  \n",
       "1  0x8893863ea87bd5dd:0x9383ebf973e74abb 2020-07-18 00:13:37  \n",
       "2  0x8893863ea87bd5dd:0x9383ebf973e74abb 2018-05-04 10:30:53  "
      ]
     },
     "execution_count": 21,
     "metadata": {},
     "output_type": "execute_result"
    }
   ],
   "source": [
    "# chequeamos los resultados\n",
    "df_final_florida.head(3)"
   ]
  },
  {
   "cell_type": "code",
   "execution_count": 22,
   "metadata": {},
   "outputs": [],
   "source": [
    "# Exportamos el df \n",
    "df_final_florida.to_csv('florida.csv', index=False)"
   ]
  }
 ],
 "metadata": {
  "kernelspec": {
   "display_name": "Python 3",
   "language": "python",
   "name": "python3"
  },
  "language_info": {
   "codemirror_mode": {
    "name": "ipython",
    "version": 3
   },
   "file_extension": ".py",
   "mimetype": "text/x-python",
   "name": "python",
   "nbconvert_exporter": "python",
   "pygments_lexer": "ipython3",
   "version": "3.9.0"
  }
 },
 "nbformat": 4,
 "nbformat_minor": 2
}

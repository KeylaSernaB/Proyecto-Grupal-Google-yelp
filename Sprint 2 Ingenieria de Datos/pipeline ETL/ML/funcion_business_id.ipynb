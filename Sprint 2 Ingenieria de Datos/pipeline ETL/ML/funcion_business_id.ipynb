{
 "cells": [
  {
   "cell_type": "code",
   "execution_count": 33,
   "metadata": {},
   "outputs": [],
   "source": [
    "import pandas as pd\n",
    "from sklearn.feature_extraction.text import TfidfVectorizer\n",
    "from sklearn.model_selection import RandomizedSearchCV, train_test_split\n",
    "from sklearn.pipeline import Pipeline\n",
    "from sklearn.base import BaseEstimator, TransformerMixin\n",
    "from sklearn.metrics.pairwise import linear_kernel\n",
    "import numpy as np\n",
    "\n",
    "class LinearKernelTransformer(BaseEstimator, TransformerMixin):\n",
    "    def fit(self, X, y=None):\n",
    "        return self\n",
    "    \n",
    "    def transform(self, X):\n",
    "        return linear_kernel(X, X)\n",
    "    \n",
    "    def score(self, X, y=None):\n",
    "        # Ejemplo: retornar la media de los valores de la matriz de similitud\n",
    "        return np.mean(self.transform(X))\n",
    "\n",
    "# Cargar el dataframe\n",
    "df1 = pd.read_csv('merged.csv')\n",
    "\n",
    "# Preprocesamiento de datos (eliminar duplicados, manejar datos faltantes, etc.)\n",
    "df1.drop_duplicates(inplace=True)\n",
    "df1.dropna(subset=['name', 'category'], inplace=True)\n",
    "df = df1[df1['category'].str.contains('restaurant', case=False)]\n"
   ]
  },
  {
   "cell_type": "code",
   "execution_count": 34,
   "metadata": {},
   "outputs": [
    {
     "name": "stdout",
     "output_type": "stream",
     "text": [
      "['0x8894b5a7a7909725:0xe4687299fd288188']\n"
     ]
    }
   ],
   "source": [
    "\n",
    "# Separar datos en entrenamiento y prueba\n",
    "X_train, X_test = train_test_split(df, test_size=0.2, random_state=42)\n",
    "\n",
    "# Modelo de recomendación\n",
    "pipeline = Pipeline([\n",
    "    ('tfidf', TfidfVectorizer(stop_words='english')),\n",
    "    ('clf', LinearKernelTransformer())\n",
    "])\n",
    "\n",
    "# Definir los hiperparámetros para Randomized Search\n",
    "parameters = {\n",
    "    'tfidf__max_df': (0.25, 0.5),\n",
    "    'tfidf__ngram_range': [(1, 1), (1, 2)],\n",
    "}\n",
    "\n",
    "# Randomized Search y Validación Cruzada\n",
    "random_search = RandomizedSearchCV(pipeline, parameters, cv=5, n_jobs=-1, n_iter=4)\n",
    "random_search.fit(X_train['category'], X_train['business_id'])\n",
    "\n",
    "def recommend_business(business_id, df, model):\n",
    "    business_index = df[df['business_id'] == business_id].index\n",
    "    if len(business_index) == 0:\n",
    "        print(\"Business ID not found in DataFrame\")\n",
    "        return None  # or any other default value you prefer\n",
    "    cosine_similarities = model.best_estimator_.named_steps['clf'].transform(\n",
    "        model.best_estimator_.named_steps['tfidf'].transform([df.loc[business_index[0]]['category']])\n",
    "    )[0]\n",
    "    related_business_indices = cosine_similarities.argsort()[:-6:-1]\n",
    "    return df.iloc[related_business_indices]['business_id'].values.tolist()\n",
    "\n",
    "# Ejemplo de uso\n",
    "recommended_businesses = recommend_business('0x88e665ef4e6d51d9:0x15ba4a3671abf5d3', df, random_search)\n",
    "if recommended_businesses:\n",
    "    print(recommended_businesses)\n",
    "else:\n",
    "    print(\"No se encontraron negocios similares.\")\n",
    "\n",
    "\n"
   ]
  }
 ],
 "metadata": {
  "kernelspec": {
   "display_name": "Python 3",
   "language": "python",
   "name": "python3"
  },
  "language_info": {
   "codemirror_mode": {
    "name": "ipython",
    "version": 3
   },
   "file_extension": ".py",
   "mimetype": "text/x-python",
   "name": "python",
   "nbconvert_exporter": "python",
   "pygments_lexer": "ipython3",
   "version": "3.12.1"
  }
 },
 "nbformat": 4,
 "nbformat_minor": 2
}

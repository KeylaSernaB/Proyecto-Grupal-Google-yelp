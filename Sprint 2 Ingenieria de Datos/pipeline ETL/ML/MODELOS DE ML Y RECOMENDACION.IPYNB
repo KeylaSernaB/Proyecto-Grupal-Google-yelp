{
 "cells": [
  {
   "cell_type": "markdown",
   "metadata": {},
   "source": [
    "## DF NESESARIOS "
   ]
  },
  {
   "cell_type": "code",
   "execution_count": 5,
   "metadata": {},
   "outputs": [],
   "source": [
    "import pandas as pd\n",
    "import numpy as np\n",
    "from sklearn.preprocessing import OneHotEncoder\n",
    "\n"
   ]
  },
  {
   "cell_type": "code",
   "execution_count": 6,
   "metadata": {},
   "outputs": [
    {
     "name": "stdout",
     "output_type": "stream",
     "text": [
      "(100832, 11)\n"
     ]
    }
   ],
   "source": [
    "df = pd.read_csv('merged.csv')\n",
    "df_sin_NaN = df.dropna(subset=['category'])\n",
    "# Filtrar las filas donde la columna \"category\" contiene la palabra \"restaurant\"\n",
    "df_restaurantes = df_sin_NaN[df_sin_NaN['category'].str.contains('restaurant', case=False)]\n",
    "# CREACION DE MUESTRAs\n",
    "# Muestra ml  \n",
    "muestra = df.sample(4000)\n",
    "muestra_restaurantes = df_restaurantes\n",
    "print(df_restaurantes.shape)"
   ]
  },
  {
   "cell_type": "markdown",
   "metadata": {},
   "source": [
    "### MODELO DE RECOMENDACION DE RESTAURANT EN BASE A SENTIMENT SCORE Y AVG_RATING "
   ]
  },
  {
   "cell_type": "code",
   "execution_count": 7,
   "metadata": {},
   "outputs": [],
   "source": [
    "import pandas as pd\n",
    "from sklearn.metrics.pairwise import cosine_similarity\n",
    "from sklearn.preprocessing import MinMaxScaler\n",
    "\n",
    "muestra.reset_index(drop=True, inplace=True)\n",
    "\n",
    "\n",
    "# Importar MinMaxScaler\n",
    "from sklearn.preprocessing import MinMaxScaler\n",
    "\n",
    "# Inicializar el escalador MinMaxScaler\n",
    "scaler = MinMaxScaler()\n",
    "\n",
    "# Normalizar los sentimiento scores\n",
    "muestra['sentiment_score_normalized'] = scaler.fit_transform(muestra['sentiment_analysis'].values.reshape(-1, 1))\n",
    "# Normaliza la nueva variable si es necesario\n",
    "muestra['avg_rating_normalized'] = (muestra['avg_rating'] - muestra['avg_rating'].mean()) / muestra['avg_rating'].std()\n",
    "\n",
    "# Combina la nueva variable con los puntajes de sentimiento existentes\n",
    "matriz_caracteristicas = np.concatenate([muestra['sentiment_score_normalized'].values.reshape(-1, 1),\n",
    "                                        muestra['avg_rating_normalized'].values.reshape(-1, 1)], axis=1)\n",
    "\n",
    "# Calcula la similitud del coseno entre las columnas de la matriz de características\n",
    "cosine_similarity_sentiment= cosine_similarity(matriz_caracteristicas)\n",
    "\n",
    "def recomendacion_sentimiento(id: int):\n",
    "    if id not in muestra['business_id'].values:\n",
    "        return {'mensaje': 'No existe el id restaurante.'}\n",
    "    \n",
    "    # Filtrar el DataFrame para excluir el restaurante con el ID proporcionado\n",
    "    filtered_df = muestra[muestra['business_id'] != id]\n",
    "    \n",
    "    # Obtener el índice del restaurante con el ID proporcionado\n",
    "    idx = muestra[muestra['business_id'] == id].index[0]\n",
    "    \n",
    "    # Calcular la similitud del coseno entre los sentimiento scores del restaurante proporcionado y los demás\n",
    "    sim_scores = sorted(list(enumerate(cosine_similarity_sentiment[idx])), key=lambda x: x[1], reverse=True)\n",
    "    \n",
    "    # Seleccionar los 5 restaurantes más similares (excluyendo el proporcionado)\n",
    "    sim_ind = [i for i, _ in sim_scores[:5]]\n",
    "    \n",
    "    # Resetear los índices del DataFrame filtrado\n",
    "    filtered_df.reset_index(drop=True, inplace=True)\n",
    "    \n",
    "    # Obtener los IDs de los restaurantes recomendados\n",
    "    sim_restaurants = filtered_df.loc[sim_ind, 'business_id'].values.tolist()\n",
    "    \n",
    "    return {'restaurantes recomendados': sim_restaurants}\n",
    "\n"
   ]
  },
  {
   "cell_type": "code",
   "execution_count": 8,
   "metadata": {},
   "outputs": [],
   "source": [
    "def recomendacion_sentimiento_category(id: int):\n",
    "    if id not in set(muestra_restaurantes['category']):\n",
    "        return {'mensaje': 'No existe la categoría proporcionada.'}\n",
    "    \n",
    "    # Filtrar el DataFrame para seleccionar solo las filas con la categoría deseada\n",
    "    filtered_df = muestra[muestra_restaurantes['category'] == id]\n",
    "    \n",
    "    # Obtener el índice del primer restaurante con la categoría proporcionada\n",
    "    idx = filtered_df.index[0]\n",
    "    \n",
    "    # Calcular la similitud del coseno entre los sentimiento scores del restaurante proporcionado y los demás\n",
    "    sim_scores = sorted(list(enumerate(cosine_similarity_sentiment[idx])), key=lambda x: x[1], reverse=True)\n",
    "    \n",
    "    # Seleccionar los 5 restaurantes más similares (excluyendo el proporcionado)\n",
    "    sim_ind = [i for i, _ in sim_scores[:5]]\n",
    "    \n",
    "    # Obtener los IDs de los restaurantes recomendados\n",
    "    sim_restaurants = filtered_df.loc[sim_ind, 'business_id'].values.tolist()\n",
    "    \n",
    "    return {'restaurantes recomendados': sim_restaurants}"
   ]
  },
  {
   "cell_type": "code",
   "execution_count": null,
   "metadata": {},
   "outputs": [],
   "source": []
  },
  {
   "cell_type": "markdown",
   "metadata": {},
   "source": [
    "## Modelos de prediccion "
   ]
  },
  {
   "cell_type": "markdown",
   "metadata": {},
   "source": [
    "JUSTIFICACION \n",
    "cree estos modelos de ML para : \n",
    "1 Poder dar recomendaciones de negocios que no tengan reseña prediciendo su avg_rating y su sentiment score (Esto permitira brindar informacion importante al usuari y uba mejor experiencia ya que si desea consultar informacion de un restaurante nuevo por ejemplo este no le sera imposible por falta de datos )\n",
    "2 Poder simular la creacion de un nuevo negocio y en base a sus recomendaciones basadas en sus datos de avg y sentiment score predichos estudiar a su competencia e identificar tendencias \n"
   ]
  },
  {
   "cell_type": "markdown",
   "metadata": {},
   "source": [
    "## PREDICCION DE AVG_RETING"
   ]
  },
  {
   "cell_type": "code",
   "execution_count": 9,
   "metadata": {},
   "outputs": [
    {
     "name": "stdout",
     "output_type": "stream",
     "text": [
      "Error cuadrático medio (MSE): 7.024668771093482e+21\n"
     ]
    }
   ],
   "source": [
    "import numpy as np\n",
    "import pandas as pd\n",
    "from sklearn.model_selection import train_test_split\n",
    "from sklearn.linear_model import LinearRegression\n",
    "from sklearn.metrics import mean_squared_error\n",
    "from sklearn.preprocessing import OneHotEncoder\n",
    "\n",
    "# Suponiendo que 'muestra' es tu conjunto de datos\n",
    "\n",
    "# Selecciona características relevantes\n",
    "features = ['latitude', 'longitude', 'category']\n",
    "\n",
    "# Codificar la variable de categoría\n",
    "encoder = OneHotEncoder(drop='first')  # drop='first' para evitar la colinealidad\n",
    "category_encoded = encoder.fit_transform(muestra[['category']])\n",
    "\n",
    "# Combinar características originales con las codificadas\n",
    "X = np.hstack((muestra[['latitude', 'longitude']].values, category_encoded.toarray()))\n",
    "\n",
    "# Obtener la variable objetivo\n",
    "y = muestra['avg_rating']\n",
    "\n",
    "# Dividir los datos en conjunto de entrenamiento y prueba\n",
    "X_train, X_test, y_train, y_test = train_test_split(X, y, test_size=0.2, random_state=42)\n",
    "\n",
    "# Inicializar y entrenar el modelo de regresión lineal\n",
    "model = LinearRegression()\n",
    "model.fit(X_train, y_train)\n",
    "\n",
    "# Realizar predicciones en el conjunto de prueba\n",
    "predictions = model.predict(X_test)\n",
    "\n",
    "# Evaluar el rendimiento del modelo\n",
    "mse = mean_squared_error(y_test, predictions)\n",
    "print(\"Error cuadrático medio (MSE):\", mse)\n",
    "\n",
    "\n"
   ]
  },
  {
   "cell_type": "markdown",
   "metadata": {},
   "source": [
    "### UTILIZACION DEL MODELO ENTRENADO "
   ]
  },
  {
   "cell_type": "code",
   "execution_count": 19,
   "metadata": {},
   "outputs": [
    {
     "name": "stdout",
     "output_type": "stream",
     "text": [
      "Predicción del promedio de calificación para el nuevo negocio en Florida: [3.71283722]\n"
     ]
    },
    {
     "name": "stderr",
     "output_type": "stream",
     "text": [
      "c:\\Users\\Nazareno\\AppData\\Local\\Programs\\Python\\Python312\\Lib\\site-packages\\sklearn\\base.py:493: UserWarning: X does not have valid feature names, but OneHotEncoder was fitted with feature names\n",
      "  warnings.warn(\n"
     ]
    }
   ],
   "source": [
    "# Supongamos que queremos hacer una predicción para una ubicación en Florida\n",
    "# Utilizaremos una latitud y longitud cercanas a Orlando, Florida\n",
    "latitud = 28.5383\n",
    "longitud = -81.3792\n",
    "\n",
    "# También proporcionaremos una categoría de negocio, por ejemplo, \"Restaurantes\"\n",
    "categoria = \"Apartment building\"\n",
    "\n",
    "# One-hot encode la categoría utilizando el mismo encoder que utilizamos durante el entrenamiento\n",
    "categoria_encoded = encoder.transform([[categoria]]).toarray() # Aquí usamos el método toarray()\n",
    "\n",
    "# Asegura que categoria_encoded sea bidimensional\n",
    "if categoria_encoded.ndim == 1:\n",
    "    categoria_encoded = categoria_encoded.reshape(1, -1)\n",
    "\n",
    "# Asegura que latitud y longitud sean bidimensionales\n",
    "latitud = np.array([[latitud]])\n",
    "longitud = np.array([[longitud]])\n",
    "\n",
    "# Combina las características de latitud, longitud y categoría\n",
    "nuevo_negocio_features = np.concatenate((latitud, longitud, categoria_encoded), axis=1)\n",
    "\n",
    "# Realiza la predicción utilizando el modelo entrenado\n",
    "prediccion_avg_rating = model.predict(nuevo_negocio_features)\n",
    "\n",
    "print(\"Predicción del promedio de calificación para el nuevo negocio en Florida:\", prediccion_avg_rating)\n",
    "\n",
    "\n",
    "\n"
   ]
  },
  {
   "cell_type": "markdown",
   "metadata": {},
   "source": [
    "### modelo de prediccion de sentiment score para x sin reseñas "
   ]
  },
  {
   "cell_type": "code",
   "execution_count": 28,
   "metadata": {},
   "outputs": [
    {
     "name": "stdout",
     "output_type": "stream",
     "text": [
      "Accuracy: 0.89\n"
     ]
    },
    {
     "name": "stderr",
     "output_type": "stream",
     "text": [
      "c:\\Users\\Nazareno\\AppData\\Local\\Programs\\Python\\Python312\\Lib\\site-packages\\sklearn\\linear_model\\_logistic.py:469: ConvergenceWarning: lbfgs failed to converge (status=1):\n",
      "STOP: TOTAL NO. of ITERATIONS REACHED LIMIT.\n",
      "\n",
      "Increase the number of iterations (max_iter) or scale the data as shown in:\n",
      "    https://scikit-learn.org/stable/modules/preprocessing.html\n",
      "Please also refer to the documentation for alternative solver options:\n",
      "    https://scikit-learn.org/stable/modules/linear_model.html#logistic-regression\n",
      "  n_iter_i = _check_optimize_result(\n"
     ]
    }
   ],
   "source": [
    "from sklearn.model_selection import train_test_split\n",
    "from sklearn.linear_model import LogisticRegression\n",
    "from sklearn.metrics import accuracy_score\n",
    "from sklearn.preprocessing import OneHotEncoder\n",
    "\n",
    "# Selecciona características relevantes\n",
    "features = ['latitude', 'longitude', 'category']\n",
    "\n",
    "# One-hot encode la variable de categoría\n",
    "encoder = OneHotEncoder() \n",
    "category_encoded = encoder.fit_transform(muestra[['category']]).toarray()  # Convertir a matriz densa\n",
    "\n",
    "# Combina las características originales con las codificadas\n",
    "X = np.hstack((muestra[['latitude', 'longitude']].values, category_encoded))\n",
    "\n",
    "# Obtiene la variable objetivo\n",
    "y = muestra['sentiment_analysis']  # Ahora usamos el puntaje de sentimiento como variable objetivo\n",
    "\n",
    "# Dividir los datos en conjunto de entrenamiento y prueba\n",
    "X_train, X_test, y_train, y_test = train_test_split(X, y, test_size=0.2, random_state=42)\n",
    "\n",
    "# Inicializar y entrenar el modelo de regresión logística multinomial\n",
    "model_2 = LogisticRegression(multi_class='multinomial', solver='lbfgs')\n",
    "model_2.fit(X_train, y_train)\n",
    "\n",
    "# Realizar predicciones en el conjunto de prueba\n",
    "predictions = model_2.predict(X_test)\n",
    "\n",
    "# Evaluar el rendimiento del modelo\n",
    "accuracy = accuracy_score(y_test, predictions)\n",
    "print(\"Accuracy:\", accuracy)\n"
   ]
  },
  {
   "cell_type": "code",
   "execution_count": 30,
   "metadata": {},
   "outputs": [
    {
     "name": "stdout",
     "output_type": "stream",
     "text": [
      "Predicción del promedio de calificación para el nuevo negocio en Florida: [2]\n"
     ]
    },
    {
     "name": "stderr",
     "output_type": "stream",
     "text": [
      "c:\\Users\\Nazareno\\AppData\\Local\\Programs\\Python\\Python312\\Lib\\site-packages\\sklearn\\base.py:493: UserWarning: X does not have valid feature names, but OneHotEncoder was fitted with feature names\n",
      "  warnings.warn(\n"
     ]
    }
   ],
   "source": [
    "\n",
    "\n",
    "# Supongamos que queremos hacer una predicción para una ubicación en Florida\n",
    "# Utilizaremos una latitud y longitud cercanas a Orlando, Florida\n",
    "latitud = 28.5383\n",
    "longitud = -81.3792\n",
    "\n",
    "# También proporcionaremos una categoría de negocio, por ejemplo, \"Restaurantes\"\n",
    "categoria = \"Apartment building\"\n",
    "\n",
    "# One-hot encode la categoría utilizando el mismo encoder que utilizamos durante el entrenamiento\n",
    "categoria_encoded = encoder.transform([[categoria]])\n",
    "\n",
    "# Asegura que latitud y longitud sean bidimensionales\n",
    "latitud = np.array([[latitud]])\n",
    "longitud = np.array([[longitud]])\n",
    "\n",
    "# Combina las características de latitud, longitud y categoría\n",
    "nuevo_negocio_features = np.hstack((latitud, longitud, categoria_encoded.toarray()))\n",
    "\n",
    "# Realiza la predicción utilizando el modelo entrenado\n",
    "prediccion_ = model_2.predict(nuevo_negocio_features)\n",
    "\n",
    "print(\"Predicción del promedio de calificación para el nuevo negocio en Florida:\", prediccion_)\n"
   ]
  },
  {
   "cell_type": "code",
   "execution_count": null,
   "metadata": {},
   "outputs": [],
   "source": []
  }
 ],
 "metadata": {
  "kernelspec": {
   "display_name": "Python 3",
   "language": "python",
   "name": "python3"
  },
  "language_info": {
   "codemirror_mode": {
    "name": "ipython",
    "version": 3
   },
   "file_extension": ".py",
   "mimetype": "text/x-python",
   "name": "python",
   "nbconvert_exporter": "python",
   "pygments_lexer": "ipython3",
   "version": "3.12.2"
  }
 },
 "nbformat": 4,
 "nbformat_minor": 2
}

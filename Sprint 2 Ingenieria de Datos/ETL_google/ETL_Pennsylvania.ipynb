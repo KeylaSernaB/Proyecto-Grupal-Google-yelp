{
 "cells": [
  {
   "cell_type": "markdown",
   "metadata": {},
   "source": [
    "## ETL Pennsylvania"
   ]
  },
  {
   "cell_type": "code",
   "execution_count": 27,
   "metadata": {},
   "outputs": [],
   "source": [
    "#Importacion de librerías\n",
    "import pandas as pd\n",
    "import os\n",
    "import datetime\n",
    "import matplotlib.pyplot as plt\n",
    "import seaborn as sns\n",
    "\n",
    "# remueve los warnings\n",
    "import warnings\n",
    "warnings.filterwarnings('ignore')"
   ]
  },
  {
   "cell_type": "code",
   "execution_count": 28,
   "metadata": {},
   "outputs": [
    {
     "name": "stdout",
     "output_type": "stream",
     "text": [
      "[WinError 2] El sistema no puede encontrar el archivo especificado: '.\\\\pennsylvania_data'\n",
      "e:\\HENRY\\Proyecto Final\\PO_2\\Proyecto-Grupal-Google-yelp\\Sprint 2 Ingenieria de Datos\\ETL_google\\pennsylvania_data\n"
     ]
    },
    {
     "name": "stdout",
     "output_type": "stream",
     "text": [
      "finalizo cargan de datos\n"
     ]
    }
   ],
   "source": [
    "# Cambiar el directorio de trabajo al directorio donde se encuentran los archivos JSON\n",
    "%cd .\\pennsylvania_data\n",
    "\n",
    "# Obtener una lista de archivos en el directorio actual\n",
    "archivos = os.listdir()\n",
    "\n",
    "# Crear un DataFrame vacío para almacenar los datos\n",
    "df_pennsylvania = pd.DataFrame()\n",
    "\n",
    "# Iterar sobre cada archivo en la lista de archivos\n",
    "for archivo in archivos:\n",
    "    # Verificar si el archivo tiene la extensión .json\n",
    "    if archivo.endswith('.json'):\n",
    "        # Leer el archivo JSON y cargarlo en un DataFrame\n",
    "        data = pd.read_json(archivo, lines=True)\n",
    "        # Concatenar los datos del archivo al DataFrame principal\n",
    "        df_pennsylvania = pd.concat([df_pennsylvania, data], axis=0)\n",
    "print(\"finalizo cargan de datos\")"
   ]
  },
  {
   "cell_type": "code",
   "execution_count": 29,
   "metadata": {},
   "outputs": [
    {
     "data": {
      "text/html": [
       "<div>\n",
       "<style scoped>\n",
       "    .dataframe tbody tr th:only-of-type {\n",
       "        vertical-align: middle;\n",
       "    }\n",
       "\n",
       "    .dataframe tbody tr th {\n",
       "        vertical-align: top;\n",
       "    }\n",
       "\n",
       "    .dataframe thead th {\n",
       "        text-align: right;\n",
       "    }\n",
       "</style>\n",
       "<table border=\"1\" class=\"dataframe\">\n",
       "  <thead>\n",
       "    <tr style=\"text-align: right;\">\n",
       "      <th></th>\n",
       "      <th>user_id</th>\n",
       "      <th>name</th>\n",
       "      <th>time</th>\n",
       "      <th>rating</th>\n",
       "      <th>text</th>\n",
       "      <th>pics</th>\n",
       "      <th>resp</th>\n",
       "      <th>gmap_id</th>\n",
       "    </tr>\n",
       "  </thead>\n",
       "  <tbody>\n",
       "    <tr>\n",
       "      <th>0</th>\n",
       "      <td>1.049447e+20</td>\n",
       "      <td>Jaron Whitfield</td>\n",
       "      <td>1517731762839</td>\n",
       "      <td>5</td>\n",
       "      <td>Joe is quite unique of his line of work, he as...</td>\n",
       "      <td>None</td>\n",
       "      <td>None</td>\n",
       "      <td>0x89c6c63c8cd87141:0x54d0d283872eecbb</td>\n",
       "    </tr>\n",
       "    <tr>\n",
       "      <th>1</th>\n",
       "      <td>1.176097e+20</td>\n",
       "      <td>Jonathan McCarthy</td>\n",
       "      <td>1476276291163</td>\n",
       "      <td>5</td>\n",
       "      <td>For such a small place their impact on my life...</td>\n",
       "      <td>None</td>\n",
       "      <td>None</td>\n",
       "      <td>0x89c6c63c8cd87141:0x54d0d283872eecbb</td>\n",
       "    </tr>\n",
       "    <tr>\n",
       "      <th>2</th>\n",
       "      <td>1.105632e+20</td>\n",
       "      <td>Rocky Kev</td>\n",
       "      <td>1338826945578</td>\n",
       "      <td>5</td>\n",
       "      <td>I usually give them a call before I stop by to...</td>\n",
       "      <td>None</td>\n",
       "      <td>None</td>\n",
       "      <td>0x89c6c63c8cd87141:0x54d0d283872eecbb</td>\n",
       "    </tr>\n",
       "  </tbody>\n",
       "</table>\n",
       "</div>"
      ],
      "text/plain": [
       "        user_id               name           time  rating   \n",
       "0  1.049447e+20    Jaron Whitfield  1517731762839       5  \\\n",
       "1  1.176097e+20  Jonathan McCarthy  1476276291163       5   \n",
       "2  1.105632e+20          Rocky Kev  1338826945578       5   \n",
       "\n",
       "                                                text  pics  resp   \n",
       "0  Joe is quite unique of his line of work, he as...  None  None  \\\n",
       "1  For such a small place their impact on my life...  None  None   \n",
       "2  I usually give them a call before I stop by to...  None  None   \n",
       "\n",
       "                                 gmap_id  \n",
       "0  0x89c6c63c8cd87141:0x54d0d283872eecbb  \n",
       "1  0x89c6c63c8cd87141:0x54d0d283872eecbb  \n",
       "2  0x89c6c63c8cd87141:0x54d0d283872eecbb  "
      ]
     },
     "execution_count": 29,
     "metadata": {},
     "output_type": "execute_result"
    }
   ],
   "source": [
    "# Visualizamos el dataframe \n",
    "df_pennsylvania.head(3)"
   ]
  },
  {
   "cell_type": "code",
   "execution_count": 30,
   "metadata": {},
   "outputs": [
    {
     "data": {
      "text/plain": [
       "(2400000, 8)"
      ]
     },
     "execution_count": 30,
     "metadata": {},
     "output_type": "execute_result"
    }
   ],
   "source": [
    "#Tamaño del dataframe\n",
    "df_pennsylvania.shape"
   ]
  },
  {
   "cell_type": "code",
   "execution_count": 31,
   "metadata": {},
   "outputs": [
    {
     "name": "stdout",
     "output_type": "stream",
     "text": [
      "<class 'pandas.core.frame.DataFrame'>\n",
      "Index: 2400000 entries, 0 to 149999\n",
      "Data columns (total 8 columns):\n",
      " #   Column   Dtype  \n",
      "---  ------   -----  \n",
      " 0   user_id  float64\n",
      " 1   name     object \n",
      " 2   time     int64  \n",
      " 3   rating   int64  \n",
      " 4   text     object \n",
      " 5   pics     object \n",
      " 6   resp     object \n",
      " 7   gmap_id  object \n",
      "dtypes: float64(1), int64(2), object(5)\n",
      "memory usage: 164.8+ MB\n"
     ]
    }
   ],
   "source": [
    "#Visualizar información\n",
    "df_pennsylvania.info()"
   ]
  },
  {
   "cell_type": "code",
   "execution_count": 32,
   "metadata": {},
   "outputs": [],
   "source": [
    "#Eliminar Columna Pics y Resp\n",
    "df_pennsylvania=df_pennsylvania.drop(['pics','resp'],axis=1)\n"
   ]
  },
  {
   "cell_type": "code",
   "execution_count": 33,
   "metadata": {},
   "outputs": [],
   "source": [
    "# Normalizamos la columna time creando la columna time_normalizado con la fecha en el formato %d/%m/%y %H:%M:%S \n",
    "times = [] \n",
    "for data in df_pennsylvania['time']/1000 :\n",
    "    times.append(datetime.datetime.utcfromtimestamp(data).strftime('%d/%m/%y %H:%M:%S'))\n",
    "df_pennsylvania['time_normalizado']=times\n"
   ]
  },
  {
   "cell_type": "code",
   "execution_count": 34,
   "metadata": {},
   "outputs": [],
   "source": [
    "# Filtrado de columnas\n",
    "df_pennsylvania = df_pennsylvania[['user_id','name','time_normalizado','rating','text','gmap_id']]"
   ]
  },
  {
   "cell_type": "code",
   "execution_count": 35,
   "metadata": {},
   "outputs": [
    {
     "data": {
      "text/plain": [
       "user_id             float64\n",
       "name                 object\n",
       "time_normalizado     object\n",
       "rating                int64\n",
       "text                 object\n",
       "gmap_id              object\n",
       "dtype: object"
      ]
     },
     "execution_count": 35,
     "metadata": {},
     "output_type": "execute_result"
    }
   ],
   "source": [
    "# Verificamos el tipo de dato en las columnas \n",
    "df_pennsylvania.dtypes"
   ]
  },
  {
   "cell_type": "code",
   "execution_count": 36,
   "metadata": {},
   "outputs": [],
   "source": [
    "df_pennsylvania['user_id'] = df_pennsylvania['user_id'].astype(object)"
   ]
  },
  {
   "cell_type": "code",
   "execution_count": 37,
   "metadata": {},
   "outputs": [
    {
     "data": {
      "text/html": [
       "<div>\n",
       "<style scoped>\n",
       "    .dataframe tbody tr th:only-of-type {\n",
       "        vertical-align: middle;\n",
       "    }\n",
       "\n",
       "    .dataframe tbody tr th {\n",
       "        vertical-align: top;\n",
       "    }\n",
       "\n",
       "    .dataframe thead th {\n",
       "        text-align: right;\n",
       "    }\n",
       "</style>\n",
       "<table border=\"1\" class=\"dataframe\">\n",
       "  <thead>\n",
       "    <tr style=\"text-align: right;\">\n",
       "      <th></th>\n",
       "      <th>user_id</th>\n",
       "      <th>name</th>\n",
       "      <th>time_normalizado</th>\n",
       "      <th>rating</th>\n",
       "      <th>text</th>\n",
       "      <th>gmap_id</th>\n",
       "    </tr>\n",
       "  </thead>\n",
       "  <tbody>\n",
       "    <tr>\n",
       "      <th>0</th>\n",
       "      <td>104944742559079759872.0</td>\n",
       "      <td>Jaron Whitfield</td>\n",
       "      <td>04/02/18 08:09:22</td>\n",
       "      <td>5</td>\n",
       "      <td>Joe is quite unique of his line of work, he as...</td>\n",
       "      <td>0x89c6c63c8cd87141:0x54d0d283872eecbb</td>\n",
       "    </tr>\n",
       "    <tr>\n",
       "      <th>1</th>\n",
       "      <td>117609702832980328448.0</td>\n",
       "      <td>Jonathan McCarthy</td>\n",
       "      <td>12/10/16 12:44:51</td>\n",
       "      <td>5</td>\n",
       "      <td>For such a small place their impact on my life...</td>\n",
       "      <td>0x89c6c63c8cd87141:0x54d0d283872eecbb</td>\n",
       "    </tr>\n",
       "  </tbody>\n",
       "</table>\n",
       "</div>"
      ],
      "text/plain": [
       "                   user_id               name   time_normalizado  rating   \n",
       "0  104944742559079759872.0    Jaron Whitfield  04/02/18 08:09:22       5  \\\n",
       "1  117609702832980328448.0  Jonathan McCarthy  12/10/16 12:44:51       5   \n",
       "\n",
       "                                                text   \n",
       "0  Joe is quite unique of his line of work, he as...  \\\n",
       "1  For such a small place their impact on my life...   \n",
       "\n",
       "                                 gmap_id  \n",
       "0  0x89c6c63c8cd87141:0x54d0d283872eecbb  \n",
       "1  0x89c6c63c8cd87141:0x54d0d283872eecbb  "
      ]
     },
     "execution_count": 37,
     "metadata": {},
     "output_type": "execute_result"
    }
   ],
   "source": [
    "# Visualizamos el dataframe \n",
    "df_pennsylvania.head(2)"
   ]
  },
  {
   "cell_type": "code",
   "execution_count": 38,
   "metadata": {},
   "outputs": [
    {
     "data": {
      "text/plain": [
       "user_id                   0\n",
       "name                      0\n",
       "time_normalizado          0\n",
       "rating                    0\n",
       "text                1041386\n",
       "gmap_id                   0\n",
       "dtype: int64"
      ]
     },
     "execution_count": 38,
     "metadata": {},
     "output_type": "execute_result"
    }
   ],
   "source": [
    "#Valores Nulos\n",
    "df_pennsylvania.isnull().sum()"
   ]
  },
  {
   "cell_type": "code",
   "execution_count": 39,
   "metadata": {},
   "outputs": [
    {
     "data": {
      "text/plain": [
       "33568"
      ]
     },
     "execution_count": 39,
     "metadata": {},
     "output_type": "execute_result"
    }
   ],
   "source": [
    "df_pennsylvania.duplicated().sum()"
   ]
  },
  {
   "cell_type": "code",
   "execution_count": 40,
   "metadata": {},
   "outputs": [],
   "source": [
    " # eliminar filas que tienen valores nulos\n",
    "df_pennsylvania.dropna(inplace=True)   \n",
    "\n",
    "# eliminar filas duplicadas\n",
    "df_pennsylvania.drop_duplicates(inplace=True)\n",
    "\n",
    "# Restablecer el índice\n",
    "df_pennsylvania.reset_index(drop=True,inplace=True)"
   ]
  },
  {
   "cell_type": "code",
   "execution_count": 41,
   "metadata": {},
   "outputs": [
    {
     "data": {
      "text/plain": [
       "(1328047, 6)"
      ]
     },
     "execution_count": 41,
     "metadata": {},
     "output_type": "execute_result"
    }
   ],
   "source": [
    "#Comprobar el tamaño del dataframe\n",
    "df_pennsylvania.shape"
   ]
  },
  {
   "cell_type": "code",
   "execution_count": 42,
   "metadata": {},
   "outputs": [],
   "source": [
    "# Cantidad de datos segun el año \n",
    "#conteo_por_año = df_pennsylvania['año'].value_counts().sort_index()\n",
    "#print(conteo_por_año)"
   ]
  },
  {
   "cell_type": "code",
   "execution_count": 43,
   "metadata": {},
   "outputs": [],
   "source": [
    "# Guardar el DF\n",
    "#df_pennsylvania.to_csv('',index=False)"
   ]
  }
 ],
 "metadata": {
  "kernelspec": {
   "display_name": "Python 3",
   "language": "python",
   "name": "python3"
  },
  "language_info": {
   "codemirror_mode": {
    "name": "ipython",
    "version": 3
   },
   "file_extension": ".py",
   "mimetype": "text/x-python",
   "name": "python",
   "nbconvert_exporter": "python",
   "pygments_lexer": "ipython3",
   "version": "3.11.3"
  }
 },
 "nbformat": 4,
 "nbformat_minor": 2
}

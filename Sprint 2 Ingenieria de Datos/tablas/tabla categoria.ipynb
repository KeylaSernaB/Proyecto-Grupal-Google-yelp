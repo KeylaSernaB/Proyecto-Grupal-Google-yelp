{
 "cells": [
  {
   "cell_type": "code",
   "execution_count": 1,
   "metadata": {},
   "outputs": [],
   "source": [
    "import ast              # Módulo de Árboles de Sintaxis Abstracta\n",
    "import pandas as pd     # Librería para manipular datasets\n",
    "import pyarrow as pa    # Útil para operaciones de lectura y escritura de datos\n",
    "import pyarrow.parquet as pq   # Útil para leer y escribir datos en formato Parquet de manera eficiente\n",
    "import os               # creación de directorios y comprobación de existencia\n",
    "import matplotlib.pyplot as plt\n",
    "from textblob import TextBlob"
   ]
  },
  {
   "cell_type": "code",
   "execution_count": 2,
   "metadata": {},
   "outputs": [],
   "source": [
    "df_categoria = pd.read_parquet('tabla categoria.parquet')"
   ]
  },
  {
   "cell_type": "code",
   "execution_count": 3,
   "metadata": {},
   "outputs": [
    {
     "data": {
      "text/html": [
       "<div>\n",
       "<style scoped>\n",
       "    .dataframe tbody tr th:only-of-type {\n",
       "        vertical-align: middle;\n",
       "    }\n",
       "\n",
       "    .dataframe tbody tr th {\n",
       "        vertical-align: top;\n",
       "    }\n",
       "\n",
       "    .dataframe thead th {\n",
       "        text-align: right;\n",
       "    }\n",
       "</style>\n",
       "<table border=\"1\" class=\"dataframe\">\n",
       "  <thead>\n",
       "    <tr style=\"text-align: right;\">\n",
       "      <th></th>\n",
       "      <th>categories</th>\n",
       "      <th>business_id</th>\n",
       "    </tr>\n",
       "  </thead>\n",
       "  <tbody>\n",
       "    <tr>\n",
       "      <th>6</th>\n",
       "      <td>Sporting Goods, Fashion, Shoe Stores, Shopping...</td>\n",
       "      <td>n_0UpQx1hsNbnPUSlodU8w</td>\n",
       "    </tr>\n",
       "    <tr>\n",
       "      <th>10</th>\n",
       "      <td>Department Stores, Shopping, Fashion</td>\n",
       "      <td>UJsufbvfyfONHeWdvAHKjA</td>\n",
       "    </tr>\n",
       "    <tr>\n",
       "      <th>13</th>\n",
       "      <td>General Dentistry, Dentists, Health &amp; Medical,...</td>\n",
       "      <td>jaxMSoInw8Poo3XeMJt8lQ</td>\n",
       "    </tr>\n",
       "    <tr>\n",
       "      <th>14</th>\n",
       "      <td>Food, Delis, Italian, Bakeries, Restaurants</td>\n",
       "      <td>0bPLkL0QhhPO5kt1_EXmNQ</td>\n",
       "    </tr>\n",
       "    <tr>\n",
       "      <th>16</th>\n",
       "      <td>Automotive, Auto Parts &amp; Supplies, Auto Custom...</td>\n",
       "      <td>rBmpy_Y1UbBx8ggHlyb7hA</td>\n",
       "    </tr>\n",
       "    <tr>\n",
       "      <th>...</th>\n",
       "      <td>...</td>\n",
       "      <td>...</td>\n",
       "    </tr>\n",
       "    <tr>\n",
       "      <th>150322</th>\n",
       "      <td>Fondue, Beer, Wine &amp; Spirits, Food, Restaurants</td>\n",
       "      <td>2MAQeAqmD8enCT2ZYqUgIQ</td>\n",
       "    </tr>\n",
       "    <tr>\n",
       "      <th>150323</th>\n",
       "      <td>Bars, Gastropubs, Sandwiches, Nightlife, Resta...</td>\n",
       "      <td>w_4xUt-1AyY2ZwKtnjW0Xg</td>\n",
       "    </tr>\n",
       "    <tr>\n",
       "      <th>150328</th>\n",
       "      <td>Specialty Food, Food, Coffee &amp; Tea, Coffee Roa...</td>\n",
       "      <td>1jx1sfgjgVg0nM6n3p0xWA</td>\n",
       "    </tr>\n",
       "    <tr>\n",
       "      <th>150329</th>\n",
       "      <td>Day Spas, Beauty &amp; Spas, Skin Care, Massage</td>\n",
       "      <td>9U1Igcpe954LoWZRmNc-zg</td>\n",
       "    </tr>\n",
       "    <tr>\n",
       "      <th>150339</th>\n",
       "      <td>Restaurants, Comfort Food, Food, Food Trucks, ...</td>\n",
       "      <td>2O2K6SXPWv56amqxCECd4w</td>\n",
       "    </tr>\n",
       "  </tbody>\n",
       "</table>\n",
       "<p>47113 rows × 2 columns</p>\n",
       "</div>"
      ],
      "text/plain": [
       "                                               categories  \\\n",
       "6       Sporting Goods, Fashion, Shoe Stores, Shopping...   \n",
       "10                   Department Stores, Shopping, Fashion   \n",
       "13      General Dentistry, Dentists, Health & Medical,...   \n",
       "14            Food, Delis, Italian, Bakeries, Restaurants   \n",
       "16      Automotive, Auto Parts & Supplies, Auto Custom...   \n",
       "...                                                   ...   \n",
       "150322    Fondue, Beer, Wine & Spirits, Food, Restaurants   \n",
       "150323  Bars, Gastropubs, Sandwiches, Nightlife, Resta...   \n",
       "150328  Specialty Food, Food, Coffee & Tea, Coffee Roa...   \n",
       "150329        Day Spas, Beauty & Spas, Skin Care, Massage   \n",
       "150339  Restaurants, Comfort Food, Food, Food Trucks, ...   \n",
       "\n",
       "                   business_id  \n",
       "6       n_0UpQx1hsNbnPUSlodU8w  \n",
       "10      UJsufbvfyfONHeWdvAHKjA  \n",
       "13      jaxMSoInw8Poo3XeMJt8lQ  \n",
       "14      0bPLkL0QhhPO5kt1_EXmNQ  \n",
       "16      rBmpy_Y1UbBx8ggHlyb7hA  \n",
       "...                        ...  \n",
       "150322  2MAQeAqmD8enCT2ZYqUgIQ  \n",
       "150323  w_4xUt-1AyY2ZwKtnjW0Xg  \n",
       "150328  1jx1sfgjgVg0nM6n3p0xWA  \n",
       "150329  9U1Igcpe954LoWZRmNc-zg  \n",
       "150339  2O2K6SXPWv56amqxCECd4w  \n",
       "\n",
       "[47113 rows x 2 columns]"
      ]
     },
     "execution_count": 3,
     "metadata": {},
     "output_type": "execute_result"
    }
   ],
   "source": [
    "df_categoria"
   ]
  }
 ],
 "metadata": {
  "kernelspec": {
   "display_name": "Python 3",
   "language": "python",
   "name": "python3"
  },
  "language_info": {
   "codemirror_mode": {
    "name": "ipython",
    "version": 3
   },
   "file_extension": ".py",
   "mimetype": "text/x-python",
   "name": "python",
   "nbconvert_exporter": "python",
   "pygments_lexer": "ipython3",
   "version": "3.12.2"
  }
 },
 "nbformat": 4,
 "nbformat_minor": 2
}

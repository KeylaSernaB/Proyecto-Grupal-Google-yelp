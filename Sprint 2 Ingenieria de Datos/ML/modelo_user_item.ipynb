{
 "cells": [
  {
   "cell_type": "code",
   "execution_count": 1,
   "metadata": {},
   "outputs": [],
   "source": [
    "import pandas as pd\n",
    "import pyarrow.parquet as pq\n",
    "import pyarrow as pa\n",
    "import pandas as pd\n",
    "import numpy as np\n",
    "\n",
    "import nltk\n",
    "\n",
    "from sklearn.metrics.pairwise import cosine_similarity\n",
    "from sklearn.feature_extraction.text import TfidfVectorizer, CountVectorizer\n",
    "from sklearn.metrics.pairwise import linear_kernel\n",
    "from sklearn.preprocessing import MinMaxScaler\n",
    "\n",
    "from surprise import Dataset, Reader\n",
    "from surprise import SVD\n",
    "from surprise.model_selection import GridSearchCV"
   ]
  },
  {
   "cell_type": "markdown",
   "metadata": {},
   "source": [
    "#### Sistema de recomendación user-item:\n",
    "\n",
    "- **def recomendacion_restaurante(user_id):**\n",
    "\n",
    "> Ingresando el id de un usuario, deberíamos recibir una lista con 5 restaurantes recomendados para dicho usuario."
   ]
  },
  {
   "cell_type": "code",
   "execution_count": 21,
   "metadata": {},
   "outputs": [],
   "source": [
    "# Ruta del archivo\n",
    "file_path = r'C:\\Users\\sebas\\OneDrive\\Escritorio\\Proyecto-Grupal-Google-yelp\\reviews.csv'\n",
    "\n",
    "# Leer el archivo en un DataFrame\n",
    "reviews = pd.read_csv(file_path)\n"
   ]
  },
  {
   "cell_type": "code",
   "execution_count": 22,
   "metadata": {},
   "outputs": [],
   "source": [
    "# Eliminamos columnas irrelevantes\n",
    "reviews = reviews.drop(['timestamp','sentiment_analysis'],axis=1)"
   ]
  },
  {
   "cell_type": "code",
   "execution_count": null,
   "metadata": {},
   "outputs": [],
   "source": [
    "#filtramos por los negocios que son restaurantes o afines"
   ]
  },
  {
   "cell_type": "code",
   "execution_count": 26,
   "metadata": {},
   "outputs": [],
   "source": [
    "import pandas as pd\n",
    "from surprise import Reader, Dataset, SVD\n",
    "from surprise.model_selection import GridSearchCV\n",
    "\n",
    "# Convertir el tipo de datos de las columnas user_id y business_id a string\n",
    "reviews['user_id'] = reviews['user_id'].astype(str)\n",
    "reviews['business_id'] = reviews['business_id'].astype(str)\n",
    "\n",
    "# Especificamos el valor mínimo y el valor máximo de los ratings y el dataset a utilizar\n",
    "reader = Reader(rating_scale=(reviews[\"rating\"].min(), reviews[\"rating\"].max()))\n",
    "\n",
    "# El objeto Dataset de Surprise nos permite leer datos \n",
    "dataset = Dataset.load_from_df(reviews[['user_id', 'business_id', 'rating']], reader)\n",
    "\n",
    "# Empleamos GridSearchCV con el algoritmo SVD y seteamos el parámetro refit a True con measures = [\"rmse\",\"fcp\"]\n",
    "param_grid = {'n_epochs': [5, 10], 'lr_all': [0.002, 0.005], 'reg_all': [0.4, 0.6]}\n",
    "\n",
    "gs = GridSearchCV(SVD, param_grid, measures=['fcp', \"rmse\"], cv=3, refit=True)\n",
    "\n",
    "# Entrenamos el modelo\n",
    "gs.fit(dataset)\n"
   ]
  },
  {
   "cell_type": "code",
   "execution_count": 27,
   "metadata": {},
   "outputs": [
    {
     "data": {
      "text/plain": [
       "{'fcp': {'n_epochs': 10, 'lr_all': 0.005, 'reg_all': 0.6},\n",
       " 'rmse': {'n_epochs': 10, 'lr_all': 0.005, 'reg_all': 0.4}}"
      ]
     },
     "execution_count": 27,
     "metadata": {},
     "output_type": "execute_result"
    }
   ],
   "source": [
    "# Mejor combinacion de parametros\n",
    "gs.best_params\n"
   ]
  },
  {
   "cell_type": "code",
   "execution_count": 28,
   "metadata": {},
   "outputs": [
    {
     "data": {
      "text/plain": [
       "{'fcp': 0.5337068346893777, 'rmse': 1.1767028884258932}"
      ]
     },
     "execution_count": 28,
     "metadata": {},
     "output_type": "execute_result"
    }
   ],
   "source": [
    "# Mejor Score\n",
    "gs.best_score"
   ]
  },
  {
   "cell_type": "code",
   "execution_count": 29,
   "metadata": {},
   "outputs": [],
   "source": [
    "# Guardamos en una variable el modelo con mayor fcp\n",
    "best_model = gs.best_estimator[\"fcp\"]\n"
   ]
  },
  {
   "cell_type": "code",
   "execution_count": 30,
   "metadata": {},
   "outputs": [
    {
     "data": {
      "text/html": [
       "<div>\n",
       "<style scoped>\n",
       "    .dataframe tbody tr th:only-of-type {\n",
       "        vertical-align: middle;\n",
       "    }\n",
       "\n",
       "    .dataframe tbody tr th {\n",
       "        vertical-align: top;\n",
       "    }\n",
       "\n",
       "    .dataframe thead th {\n",
       "        text-align: right;\n",
       "    }\n",
       "</style>\n",
       "<table border=\"1\" class=\"dataframe\">\n",
       "  <thead>\n",
       "    <tr style=\"text-align: right;\">\n",
       "      <th></th>\n",
       "      <th>user_id</th>\n",
       "      <th>rating</th>\n",
       "      <th>business_id</th>\n",
       "    </tr>\n",
       "  </thead>\n",
       "  <tbody>\n",
       "    <tr>\n",
       "      <th>0</th>\n",
       "      <td>1.0147185615514871e+20</td>\n",
       "      <td>1</td>\n",
       "      <td>0x8893863ea87bd5dd:0x9383ebf973e74abb</td>\n",
       "    </tr>\n",
       "    <tr>\n",
       "      <th>1</th>\n",
       "      <td>1.1547723478903833e+20</td>\n",
       "      <td>5</td>\n",
       "      <td>0x8893863ea87bd5dd:0x9383ebf973e74abb</td>\n",
       "    </tr>\n",
       "  </tbody>\n",
       "</table>\n",
       "</div>"
      ],
      "text/plain": [
       "                  user_id  rating                            business_id\n",
       "0  1.0147185615514871e+20       1  0x8893863ea87bd5dd:0x9383ebf973e74abb\n",
       "1  1.1547723478903833e+20       5  0x8893863ea87bd5dd:0x9383ebf973e74abb"
      ]
     },
     "execution_count": 30,
     "metadata": {},
     "output_type": "execute_result"
    }
   ],
   "source": [
    "reviews.head(2)"
   ]
  },
  {
   "cell_type": "code",
   "execution_count": 33,
   "metadata": {},
   "outputs": [
    {
     "data": {
      "text/plain": [
       "4.074575159648792"
      ]
     },
     "execution_count": 33,
     "metadata": {},
     "output_type": "execute_result"
    }
   ],
   "source": [
    "# Prediccion para user_id : \"1.0147185615514871e+20\",  item_id : \"0x8893863ea87bd5dd:0x9383ebf973e74abb\n",
    "\n",
    "user_id = \"1.1547723478903833e+20\"\n",
    "business_id = \"0x8893863ea87bd5dd:0x9383ebf973e74abb\"\n",
    "\n",
    "pred = best_model.predict(user_id, business_id)\n",
    "\n",
    "pred.est"
   ]
  },
  {
   "cell_type": "code",
   "execution_count": 37,
   "metadata": {},
   "outputs": [],
   "source": [
    "from surprise.dump import dump\n",
    "\n",
    "# Nombre del archivo para guardar el modelo\n",
    "modelo_guardado = \"modelo_user_item.pkl\"\n",
    "\n",
    "# Guardar el modelo entrenado\n",
    "dump(modelo_guardado, algo=best_model)\n"
   ]
  },
  {
   "cell_type": "code",
   "execution_count": 39,
   "metadata": {},
   "outputs": [],
   "source": [
    "from surprise.dump import load\n",
    "\n",
    "def recomendacion_usuario(user_id, top_n=5):\n",
    "    # Cargar el modelo entrenado desde el archivo guardado\n",
    "    modelo_guardado = \"modelo_user_item.pkl\"\n",
    "    loaded_model = load(modelo_guardado)[1]\n",
    "    \n",
    "    # Crear una lista vacía para almacenar las recomendaciones\n",
    "    recomendaciones = []\n",
    "    \n",
    "    # Obtener todos los ítems que el usuario aún no ha calificado\n",
    "    items_no_vistos = reviews[~reviews['business_id'].isin(reviews[reviews['user_id'] == user_id]['business_id'])]['business_id'].unique()\n",
    "    \n",
    "    # Realizar predicciones para cada ítem no visto\n",
    "    for item_id in items_no_vistos:\n",
    "        pred = loaded_model.predict(user_id, item_id)\n",
    "        recomendaciones.append((item_id, pred.est))\n",
    "    \n",
    "    # Ordenar las recomendaciones en orden descendente según la calificación estimada\n",
    "    recomendaciones.sort(key=lambda x: x[1], reverse=True)\n",
    "    \n",
    "    # Devolver los top N elementos recomendados\n",
    "    return recomendaciones[:top_n]\n"
   ]
  },
  {
   "cell_type": "code",
   "execution_count": 41,
   "metadata": {},
   "outputs": [
    {
     "data": {
      "text/plain": [
       "[('0x88e77f98a0d0d53f:0x43b542fc1f5dd4a0', 4.682763252289878),\n",
       " ('0x88d9a7c57c1ab3bd:0x6801bc5f3ac7787b', 4.678695264620291),\n",
       " ('0x88c2a1470c08b96d:0x85fa2dfbfa4b9d68', 4.663169516549163),\n",
       " ('0x88c2c32896691aff:0x8723493fe3c1e31a', 4.6592102702338964),\n",
       " ('0x88db391e3c770d6f:0xb0b7d298dc37cb14', 4.656393365826446)]"
      ]
     },
     "execution_count": 41,
     "metadata": {},
     "output_type": "execute_result"
    }
   ],
   "source": [
    "recomendacion_usuario(\"1.1547723478903833e+20\")"
   ]
  },
  {
   "cell_type": "code",
   "execution_count": 48,
   "metadata": {},
   "outputs": [],
   "source": [
    "import pandas as pd\n",
    "from surprise.dump import load\n",
    "\n",
    "path = r\"C:\\Users\\sebas\\OneDrive\\Escritorio\\Proyecto-Grupal-Google-yelp\\name_business.csv\"\n",
    "\n",
    "# Cargar el DataFrame con los nombres de los negocios\n",
    "name_business = pd.read_csv(path)\n",
    "\n",
    "# Función para recomendar restaurantes a un usuario\n",
    "def recomendacion_usuario(user_id, top_n=5):\n",
    "    # Cargar el modelo entrenado desde el archivo guardado\n",
    "    modelo_guardado = \"modelo_user_item.pkl\"\n",
    "    loaded_model = load(modelo_guardado)[1]\n",
    "    \n",
    "    # Crear una lista vacía para almacenar las recomendaciones\n",
    "    recomendaciones = []\n",
    "    \n",
    "    # Obtener todos los ítems que el usuario aún no ha calificado\n",
    "    items_no_vistos = reviews[~reviews['business_id'].isin(reviews[reviews['user_id'] == user_id]['business_id'])]['business_id'].unique()\n",
    "    \n",
    "    # Realizar predicciones para cada ítem no visto\n",
    "    for item_id in items_no_vistos:\n",
    "        pred = loaded_model.predict(user_id, item_id)\n",
    "        recomendaciones.append((item_id, pred.est))\n",
    "    \n",
    "    # Ordenar las recomendaciones en orden descendente según la calificación estimada\n",
    "    recomendaciones.sort(key=lambda x: x[1], reverse=True)\n",
    "    \n",
    "    # Mapear business_id con el nombre correspondiente\n",
    "    recomendaciones_con_nombre = []\n",
    "    for item_id, rating in recomendaciones[:top_n]:\n",
    "        nombre = name_business[name_business['business_id'] == item_id]['name'].values[0]\n",
    "        recomendaciones_con_nombre.append\n"
   ]
  },
  {
   "cell_type": "code",
   "execution_count": 49,
   "metadata": {},
   "outputs": [
    {
     "ename": "IndexError",
     "evalue": "index 0 is out of bounds for axis 0 with size 0",
     "output_type": "error",
     "traceback": [
      "\u001b[1;31m---------------------------------------------------------------------------\u001b[0m",
      "\u001b[1;31mIndexError\u001b[0m                                Traceback (most recent call last)",
      "Cell \u001b[1;32mIn[49], line 1\u001b[0m\n\u001b[1;32m----> 1\u001b[0m \u001b[43mrecomendacion_usuario\u001b[49m\u001b[43m(\u001b[49m\u001b[38;5;124;43m\"\u001b[39;49m\u001b[38;5;124;43m1.1547723478903833e+20\u001b[39;49m\u001b[38;5;124;43m\"\u001b[39;49m\u001b[43m)\u001b[49m\n",
      "Cell \u001b[1;32mIn[48], line 32\u001b[0m, in \u001b[0;36mrecomendacion_usuario\u001b[1;34m(user_id, top_n)\u001b[0m\n\u001b[0;32m     30\u001b[0m recomendaciones_con_nombre \u001b[38;5;241m=\u001b[39m []\n\u001b[0;32m     31\u001b[0m \u001b[38;5;28;01mfor\u001b[39;00m item_id, rating \u001b[38;5;129;01min\u001b[39;00m recomendaciones[:top_n]:\n\u001b[1;32m---> 32\u001b[0m     nombre \u001b[38;5;241m=\u001b[39m \u001b[43mname_business\u001b[49m\u001b[43m[\u001b[49m\u001b[43mname_business\u001b[49m\u001b[43m[\u001b[49m\u001b[38;5;124;43m'\u001b[39;49m\u001b[38;5;124;43mbusiness_id\u001b[39;49m\u001b[38;5;124;43m'\u001b[39;49m\u001b[43m]\u001b[49m\u001b[43m \u001b[49m\u001b[38;5;241;43m==\u001b[39;49m\u001b[43m \u001b[49m\u001b[43mitem_id\u001b[49m\u001b[43m]\u001b[49m\u001b[43m[\u001b[49m\u001b[38;5;124;43m'\u001b[39;49m\u001b[38;5;124;43mname\u001b[39;49m\u001b[38;5;124;43m'\u001b[39;49m\u001b[43m]\u001b[49m\u001b[38;5;241;43m.\u001b[39;49m\u001b[43mvalues\u001b[49m\u001b[43m[\u001b[49m\u001b[38;5;241;43m0\u001b[39;49m\u001b[43m]\u001b[49m\n\u001b[0;32m     33\u001b[0m     recomendaciones_con_nombre\u001b[38;5;241m.\u001b[39mappend\n",
      "\u001b[1;31mIndexError\u001b[0m: index 0 is out of bounds for axis 0 with size 0"
     ]
    }
   ],
   "source": [
    "recomendacion_usuario(\"1.1547723478903833e+20\")\n"
   ]
  }
 ],
 "metadata": {
  "kernelspec": {
   "display_name": "Python 3",
   "language": "python",
   "name": "python3"
  },
  "language_info": {
   "codemirror_mode": {
    "name": "ipython",
    "version": 3
   },
   "file_extension": ".py",
   "mimetype": "text/x-python",
   "name": "python",
   "nbconvert_exporter": "python",
   "pygments_lexer": "ipython3",
   "version": "3.9.0"
  }
 },
 "nbformat": 4,
 "nbformat_minor": 2
}

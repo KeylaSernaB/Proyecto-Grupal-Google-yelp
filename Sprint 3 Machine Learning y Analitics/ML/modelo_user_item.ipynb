{
 "cells": [
  {
   "cell_type": "markdown",
   "metadata": {},
   "source": [
    "#### Sistema de recomendación user-item:\n",
    "\n",
    "- **def recomendacion_restaurante(user_id):**\n",
    "\n",
    "> Ingresando el id de un usuario, deberíamos recibir una lista con 5 restaurantes recomendados para dicho usuario."
   ]
  },
  {
   "cell_type": "code",
   "execution_count": 55,
   "metadata": {},
   "outputs": [],
   "source": [
    "import pandas as pd\n",
    "\n",
    "# Ruta del archivo\n",
    "file_path = r'.\\merged.csv'\n",
    "\n",
    "# Leer el archivo en un DataFrame\n",
    "reviews = pd.read_csv(file_path)\n"
   ]
  },
  {
   "cell_type": "code",
   "execution_count": 56,
   "metadata": {},
   "outputs": [],
   "source": [
    "# Nos quedamos con las columnas relevantes\n",
    "reviews = reviews[['name','category','rating','user_id']]"
   ]
  },
  {
   "cell_type": "markdown",
   "metadata": {},
   "source": [
    "Primero vamos a filtrar solo las categorais de negocios relacionadas al rubro gastronomico"
   ]
  },
  {
   "cell_type": "code",
   "execution_count": 58,
   "metadata": {},
   "outputs": [
    {
     "name": "stderr",
     "output_type": "stream",
     "text": [
      "C:\\Users\\sebas\\AppData\\Local\\Temp\\ipykernel_39356\\1132569886.py:19: UserWarning: [W008] Evaluating Doc.similarity based on empty vectors.\n",
      "  similarity = nlp(category).similarity(nlp(word))\n"
     ]
    },
    {
     "name": "stdout",
     "output_type": "stream",
     "text": [
      "['Restaurant', 'Seafood restaurant', 'Pizza restaurant', 'Cuban restaurant', 'Health food store', 'Italian restaurant', 'Food and drink', 'Chinese restaurant', 'Taco restaurant', 'Wholesale food store', 'Fast food restaurant', 'Mexican restaurant', 'Mediterranean restaurant', 'Hamburger restaurant', 'Haitian restaurant', 'Sushi restaurant', 'Vegetarian restaurant', 'Jamaican restaurant', 'Vietnamese restaurant', 'Breakfast restaurant', 'Honduran restaurant', 'Health food restaurant', 'Cheesesteak restaurant', 'Barbecue restaurant', 'Sushi takeaway', 'Dominican restaurant', 'Colombian restaurant', 'Thai restaurant', 'Turkish restaurant', 'Caribbean restaurant', 'Soul food restaurant', 'Brazilian restaurant', 'Kosher restaurant', 'Japanese restaurant', 'Restaurant supply store', 'Authentic Japanese restaurant', 'Catering food and drink supplier', 'Buffet restaurant', 'Grill store', 'Hawaiian restaurant', 'Spanish restaurant', 'Organic restaurant', 'Chicken restaurant', 'Peruvian restaurant', 'Venezuelan restaurant', 'Vegetarian cafe and deli', 'Vegan restaurant', 'Nicaraguan restaurant', 'Salvadoran restaurant', 'Down home cooking restaurant', 'Cajun restaurant', 'Halal restaurant', 'Persian restaurant', 'Argentinian restaurant', 'Chophouse restaurant', 'Fine dining restaurant', 'Fusion restaurant', 'Guatemalan restaurant', 'Indonesian restaurant', 'Frozen food manufacturer', 'Lunch restaurant', 'Fresh food market', 'Filipino restaurant', 'Brunch restaurant', 'Tapas restaurant', 'Pakistani restaurant', 'Organic food store', 'Portuguese restaurant', 'Oyster bar restaurant', 'Lebanese restaurant', 'Eclectic restaurant', 'Singaporean restaurant', 'Armenian restaurant', 'Ethiopian restaurant', 'Ramen restaurant', 'Dessert restaurant', 'Japanese steakhouse', 'Korean barbecue restaurant', 'Teppanyaki restaurant', 'Ecuadorian restaurant', 'Pancake restaurant', 'Mongolian barbecue restaurant']\n"
     ]
    }
   ],
   "source": [
    "# Seleccionamos solo los valores únicos de categoría y los convertimos en cadenas de texto\n",
    "categorias_unicas = reviews['category'].astype(str).unique()\n",
    "\n",
    "# Convertimos el array de valores únicos en una lista de cadenas de texto\n",
    "categorias_unicas = categorias_unicas.tolist()\n",
    "\n",
    "import spacy\n",
    "\n",
    "# Cargar el modelo en inglés de spaCy\n",
    "nlp = spacy.load(\"en_core_web_md\")\n",
    "\n",
    "# Palabras clave a comparar\n",
    "words = ['restaurant', 'food', 'cuisine']\n",
    "\n",
    "# Inicializar una lista vacía para almacenar las categorías relacionadas\n",
    "related_categories = []\n",
    "\n",
    "# Iterar sobre cada categoría en categorias_unicas\n",
    "for category in categorias_unicas:\n",
    "    # Inicializar el puntaje de similaridad máximo\n",
    "    max_similarity = 0.0\n",
    "    # Iterar sobre cada palabra en words\n",
    "    for word in words:\n",
    "        # Calcular la similitud entre la categoría y la palabra\n",
    "        similarity = nlp(category).similarity(nlp(word))\n",
    "        # Actualizar el puntaje de similaridad máximo\n",
    "        max_similarity = max(max_similarity, similarity)\n",
    "    # Si el puntaje de similaridad máximo es mayor a un umbral, agregar la categoría a related_categories\n",
    "    if max_similarity > 0.7:\n",
    "        related_categories.append(category)\n",
    "\n",
    "# Chequeamos resultado\n",
    "related_categories\n"
   ]
  },
  {
   "cell_type": "code",
   "execution_count": 61,
   "metadata": {},
   "outputs": [],
   "source": [
    "# Nos quedamos solo con las filas cuya categoría esté en related_categories\n",
    "reviews = reviews[reviews['category'].isin(related_categories)]"
   ]
  },
  {
   "cell_type": "code",
   "execution_count": 63,
   "metadata": {},
   "outputs": [
    {
     "data": {
      "text/plain": [
       "(88219, 4)"
      ]
     },
     "execution_count": 63,
     "metadata": {},
     "output_type": "execute_result"
    }
   ],
   "source": [
    "reviews.shape"
   ]
  },
  {
   "cell_type": "code",
   "execution_count": 82,
   "metadata": {},
   "outputs": [],
   "source": [
    "# Vamos a exportar e importar el dataset\n",
    "reviews.to_csv('data_user_item.csv', index=False)\n",
    "\n",
    "reviews = pd.read_csv('./data_user_item.csv')"
   ]
  },
  {
   "cell_type": "code",
   "execution_count": 64,
   "metadata": {},
   "outputs": [
    {
     "name": "stderr",
     "output_type": "stream",
     "text": [
      "C:\\Users\\sebas\\AppData\\Local\\Temp\\ipykernel_39356\\2767750060.py:2: SettingWithCopyWarning: \n",
      "A value is trying to be set on a copy of a slice from a DataFrame\n",
      "\n",
      "See the caveats in the documentation: https://pandas.pydata.org/pandas-docs/stable/user_guide/indexing.html#returning-a-view-versus-a-copy\n",
      "  reviews.drop('category', axis=1, inplace=True)\n",
      "C:\\Users\\sebas\\AppData\\Local\\Temp\\ipykernel_39356\\2767750060.py:4: SettingWithCopyWarning: \n",
      "A value is trying to be set on a copy of a slice from a DataFrame\n",
      "\n",
      "See the caveats in the documentation: https://pandas.pydata.org/pandas-docs/stable/user_guide/indexing.html#returning-a-view-versus-a-copy\n",
      "  reviews.rename(columns={'name': 'business_id'}, inplace=True)\n"
     ]
    }
   ],
   "source": [
    "# Eliminamos la columna category \n",
    "reviews.drop('category', axis=1, inplace=True)\n",
    "\n",
    "# Renombramos name como business_id\n",
    "reviews.rename(columns={'name': 'business_id'}, inplace=True)"
   ]
  },
  {
   "cell_type": "code",
   "execution_count": 66,
   "metadata": {},
   "outputs": [
    {
     "name": "stderr",
     "output_type": "stream",
     "text": [
      "C:\\Users\\sebas\\AppData\\Local\\Temp\\ipykernel_39356\\1290439482.py:5: SettingWithCopyWarning: \n",
      "A value is trying to be set on a copy of a slice from a DataFrame.\n",
      "Try using .loc[row_indexer,col_indexer] = value instead\n",
      "\n",
      "See the caveats in the documentation: https://pandas.pydata.org/pandas-docs/stable/user_guide/indexing.html#returning-a-view-versus-a-copy\n",
      "  reviews['user_id'] = reviews['user_id'].astype(str)\n",
      "C:\\Users\\sebas\\AppData\\Local\\Temp\\ipykernel_39356\\1290439482.py:6: SettingWithCopyWarning: \n",
      "A value is trying to be set on a copy of a slice from a DataFrame.\n",
      "Try using .loc[row_indexer,col_indexer] = value instead\n",
      "\n",
      "See the caveats in the documentation: https://pandas.pydata.org/pandas-docs/stable/user_guide/indexing.html#returning-a-view-versus-a-copy\n",
      "  reviews['business_id'] = reviews['business_id'].astype(str)\n"
     ]
    }
   ],
   "source": [
    "from surprise import Reader, Dataset, SVD\n",
    "from surprise.model_selection import GridSearchCV\n",
    "\n",
    "# Convertir el tipo de datos de las columnas user_id y business_id a string\n",
    "reviews['user_id'] = reviews['user_id'].astype(str)\n",
    "reviews['business_id'] = reviews['business_id'].astype(str)\n",
    "\n",
    "# Especificamos el valor mínimo y el valor máximo de los ratings y el dataset a utilizar\n",
    "reader = Reader(rating_scale=(reviews[\"rating\"].min(), reviews[\"rating\"].max()))\n",
    "\n",
    "# El objeto Dataset de Surprise nos permite leer datos \n",
    "dataset = Dataset.load_from_df(reviews[['user_id', 'business_id', 'rating']], reader)\n",
    "\n",
    "# Empleamos GridSearchCV con el algoritmo SVD y seteamos el parámetro refit a True con measures = [\"rmse\",\"fcp\"]\n",
    "param_grid = {'n_epochs': [5, 10], 'lr_all': [0.002, 0.005], 'reg_all': [0.4, 0.6]}\n",
    "\n",
    "gs = GridSearchCV(SVD, param_grid, measures=['fcp', \"rmse\"], cv=3, refit=True)\n",
    "\n",
    "# Entrenamos el modelo\n",
    "gs.fit(dataset)\n"
   ]
  },
  {
   "cell_type": "code",
   "execution_count": 67,
   "metadata": {},
   "outputs": [
    {
     "data": {
      "text/plain": [
       "{'fcp': {'n_epochs': 5, 'lr_all': 0.005, 'reg_all': 0.4},\n",
       " 'rmse': {'n_epochs': 10, 'lr_all': 0.005, 'reg_all': 0.4}}"
      ]
     },
     "execution_count": 67,
     "metadata": {},
     "output_type": "execute_result"
    }
   ],
   "source": [
    "# Mejor combinacion de parametros\n",
    "gs.best_params\n"
   ]
  },
  {
   "cell_type": "code",
   "execution_count": 68,
   "metadata": {},
   "outputs": [
    {
     "data": {
      "text/plain": [
       "{'fcp': 0.5073867032101574, 'rmse': 1.2477929435845014}"
      ]
     },
     "execution_count": 68,
     "metadata": {},
     "output_type": "execute_result"
    }
   ],
   "source": [
    "# Mejor Score\n",
    "gs.best_score"
   ]
  },
  {
   "cell_type": "code",
   "execution_count": 69,
   "metadata": {},
   "outputs": [],
   "source": [
    "# Guardamos en una variable el modelo con mayor fcp\n",
    "best_model = gs.best_estimator[\"fcp\"]"
   ]
  },
  {
   "cell_type": "code",
   "execution_count": 71,
   "metadata": {},
   "outputs": [
    {
     "data": {
      "text/html": [
       "<div>\n",
       "<style scoped>\n",
       "    .dataframe tbody tr th:only-of-type {\n",
       "        vertical-align: middle;\n",
       "    }\n",
       "\n",
       "    .dataframe tbody tr th {\n",
       "        vertical-align: top;\n",
       "    }\n",
       "\n",
       "    .dataframe thead th {\n",
       "        text-align: right;\n",
       "    }\n",
       "</style>\n",
       "<table border=\"1\" class=\"dataframe\">\n",
       "  <thead>\n",
       "    <tr style=\"text-align: right;\">\n",
       "      <th></th>\n",
       "      <th>business_id</th>\n",
       "      <th>rating</th>\n",
       "      <th>user_id</th>\n",
       "    </tr>\n",
       "  </thead>\n",
       "  <tbody>\n",
       "    <tr>\n",
       "      <th>592</th>\n",
       "      <td>Bachata Rosa</td>\n",
       "      <td>5</td>\n",
       "      <td>1.1555531733618288e+20</td>\n",
       "    </tr>\n",
       "    <tr>\n",
       "      <th>593</th>\n",
       "      <td>Bachata Rosa</td>\n",
       "      <td>5</td>\n",
       "      <td>1.168683985741959e+20</td>\n",
       "    </tr>\n",
       "    <tr>\n",
       "      <th>594</th>\n",
       "      <td>Bachata Rosa</td>\n",
       "      <td>1</td>\n",
       "      <td>1.0898020753291964e+20</td>\n",
       "    </tr>\n",
       "    <tr>\n",
       "      <th>788</th>\n",
       "      <td>Zampini's Bottega</td>\n",
       "      <td>5</td>\n",
       "      <td>1.047022032410506e+20</td>\n",
       "    </tr>\n",
       "    <tr>\n",
       "      <th>789</th>\n",
       "      <td>Zampini's Bottega</td>\n",
       "      <td>5</td>\n",
       "      <td>1.0177046793955536e+20</td>\n",
       "    </tr>\n",
       "  </tbody>\n",
       "</table>\n",
       "</div>"
      ],
      "text/plain": [
       "           business_id  rating                 user_id\n",
       "592       Bachata Rosa       5  1.1555531733618288e+20\n",
       "593       Bachata Rosa       5   1.168683985741959e+20\n",
       "594       Bachata Rosa       1  1.0898020753291964e+20\n",
       "788  Zampini's Bottega       5   1.047022032410506e+20\n",
       "789  Zampini's Bottega       5  1.0177046793955536e+20"
      ]
     },
     "execution_count": 71,
     "metadata": {},
     "output_type": "execute_result"
    }
   ],
   "source": [
    "reviews.head()"
   ]
  },
  {
   "cell_type": "code",
   "execution_count": 73,
   "metadata": {},
   "outputs": [
    {
     "data": {
      "text/plain": [
       "4.168100271877366"
      ]
     },
     "execution_count": 73,
     "metadata": {},
     "output_type": "execute_result"
    }
   ],
   "source": [
    "# Prediccion para user_id : \"1.0147185615514871e+20\",  item_id : \"0x8893863ea87bd5dd:0x9383ebf973e74abb\n",
    "\n",
    "user_id = \"1.1555531733618288e+20\"\n",
    "business_id = \"Bachata Rosa\"\n",
    "\n",
    "pred = best_model.predict(user_id, business_id)\n",
    "\n",
    "pred.est"
   ]
  },
  {
   "cell_type": "code",
   "execution_count": 74,
   "metadata": {},
   "outputs": [],
   "source": [
    "from surprise.dump import dump\n",
    "\n",
    "# Nombre del archivo para guardar el modelo\n",
    "modelo_guardado = \"modelo_user_item.pkl\"\n",
    "\n",
    "# Guardar el modelo entrenado\n",
    "dump(modelo_guardado, algo=best_model)\n"
   ]
  },
  {
   "cell_type": "code",
   "execution_count": 77,
   "metadata": {},
   "outputs": [],
   "source": [
    "def recomendacion_usuario(user_id, top_n=5):\n",
    "    # Cargar el modelo entrenado desde el archivo guardado\n",
    "    modelo_guardado = \"modelo_user_item.pkl\"\n",
    "    loaded_model = load(modelo_guardado)[1]\n",
    "\n",
    "    # Crear una lista vacía para almacenar las recomendaciones\n",
    "    recomendaciones = []\n",
    "\n",
    "    # Obtener todos los ítems que el usuario aún no ha calificado\n",
    "    items_no_vistos = reviews[~reviews['business_id'].isin(reviews[reviews['user_id'] == user_id]['business_id'])]['business_id'].unique()\n",
    "\n",
    "    # Realizar predicciones para cada ítem no visto\n",
    "    for item_id in items_no_vistos:\n",
    "        pred = loaded_model.predict(user_id, item_id)\n",
    "        recomendaciones.append(item_id)\n",
    "\n",
    "    # Ordenar las recomendaciones en orden descendente según la calificación estimada\n",
    "    recomendaciones.sort(key=lambda x: loaded_model.predict(user_id, x).est, reverse=True)\n",
    "\n",
    "    # Devolver los top N elementos recomendados\n",
    "    return recomendaciones[:top_n]\n"
   ]
  },
  {
   "cell_type": "code",
   "execution_count": 80,
   "metadata": {},
   "outputs": [
    {
     "data": {
      "text/plain": [
       "['Dina Bella Cuban Cuisine',\n",
       " 'Julianos BBQ',\n",
       " 'StreetWise Urban Food',\n",
       " 'Deccan Spice Pompano',\n",
       " 'Girl And A Grill']"
      ]
     },
     "execution_count": 80,
     "metadata": {},
     "output_type": "execute_result"
    }
   ],
   "source": [
    "recomendacion_usuario(\"1.047022032410506e+20\")"
   ]
  },
  {
   "cell_type": "code",
   "execution_count": null,
   "metadata": {},
   "outputs": [],
   "source": []
  }
 ],
 "metadata": {
  "kernelspec": {
   "display_name": "Python 3",
   "language": "python",
   "name": "python3"
  },
  "language_info": {
   "codemirror_mode": {
    "name": "ipython",
    "version": 3
   },
   "file_extension": ".py",
   "mimetype": "text/x-python",
   "name": "python",
   "nbconvert_exporter": "python",
   "pygments_lexer": "ipython3",
   "version": "3.9.0"
  }
 },
 "nbformat": 4,
 "nbformat_minor": 2
}

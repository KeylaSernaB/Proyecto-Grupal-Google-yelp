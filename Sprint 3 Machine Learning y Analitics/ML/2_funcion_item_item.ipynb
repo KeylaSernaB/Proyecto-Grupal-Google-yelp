{
 "cells": [
  {
   "cell_type": "code",
   "execution_count": 7,
   "metadata": {},
   "outputs": [],
   "source": [
    "import pandas as pd\n",
    "import pyarrow.parquet as pq\n",
    "import pyarrow as pa\n",
    "import pandas as pd\n",
    "import numpy as np\n",
    "\n",
    "import nltk\n",
    "\n",
    "from sklearn.metrics.pairwise import cosine_similarity\n",
    "from sklearn.feature_extraction.text import TfidfVectorizer, CountVectorizer\n",
    "from sklearn.metrics.pairwise import linear_kernel\n",
    "from sklearn.preprocessing import MinMaxScaler\n",
    "\n",
    "from surprise import Dataset, Reader\n",
    "from surprise import SVD\n",
    "from surprise.model_selection import GridSearchCV"
   ]
  },
  {
   "cell_type": "markdown",
   "metadata": {},
   "source": [
    "#### Sistema de recomendación item-item:\n",
    "\n",
    "- **def recomendacion_item_item(busines_id):**\n",
    "\n",
    "> Ingresando el id de un negocio, deberíamos recibir una lista con 5 restaurantes recomendados similares a dicho negocio."
   ]
  },
  {
   "cell_type": "code",
   "execution_count": 9,
   "metadata": {},
   "outputs": [],
   "source": [
    "# Ruta del archivo\n",
    "file_path = r'./data/merged.csv'\n",
    "\n",
    "# Leer el archivo en un DataFrame\n",
    "restaurantes = pd.read_csv(file_path)"
   ]
  },
  {
   "cell_type": "code",
   "execution_count": 64,
   "metadata": {},
   "outputs": [
    {
     "data": {
      "text/plain": [
       "Index(['name', 'business_id', 'latitude', 'longitude', 'category',\n",
       "       'avg_rating', 'num_of_reviews', 'user_id', 'rating', 'timestamp',\n",
       "       'sentiment_analysis'],\n",
       "      dtype='object')"
      ]
     },
     "execution_count": 64,
     "metadata": {},
     "output_type": "execute_result"
    }
   ],
   "source": [
    "restaurantes.columns"
   ]
  },
  {
   "cell_type": "code",
   "execution_count": 10,
   "metadata": {},
   "outputs": [],
   "source": [
    "# Nos quedamos con las columnas relevantes\n",
    "restaurantes = restaurantes[['name','category','avg_rating','num_of_reviews']]"
   ]
  },
  {
   "cell_type": "markdown",
   "metadata": {},
   "source": [
    "Primero vamos a filtrar solo las categorais de negocios relacionadas al rubro gastronomico"
   ]
  },
  {
   "cell_type": "code",
   "execution_count": 11,
   "metadata": {},
   "outputs": [
    {
     "name": "stderr",
     "output_type": "stream",
     "text": [
      "C:\\Users\\sebas\\AppData\\Local\\Temp\\ipykernel_9152\\1941504441.py:25: UserWarning: [W008] Evaluating Doc.similarity based on empty vectors.\n",
      "  similarity = nlp(category).similarity(nlp(word))\n"
     ]
    }
   ],
   "source": [
    "# Seleccionamos solo los valores únicos de categoría y los convertimos en cadenas de texto\n",
    "categorias_unicas = restaurantes['category'].astype(str).unique()\n",
    "\n",
    "# Convertimos el array de valores únicos en una lista de cadenas de texto\n",
    "categorias_unicas = categorias_unicas.tolist()\n",
    "\n",
    "import spacy\n",
    "\n",
    "# Cargar el modelo en inglés de spaCy\n",
    "nlp = spacy.load(\"en_core_web_md\")\n",
    "\n",
    "# Palabras clave a comparar\n",
    "words = ['restaurant', 'food', 'cuisine']\n",
    "\n",
    "# Inicializar una lista vacía para almacenar las categorías relacionadas\n",
    "related_categories = []\n",
    "\n",
    "# Iterar sobre cada categoría en categorias_unicas\n",
    "for category in categorias_unicas:\n",
    "    # Inicializar el puntaje de similaridad máximo\n",
    "    max_similarity = 0.0\n",
    "    # Iterar sobre cada palabra en words\n",
    "    for word in words:\n",
    "        # Calcular la similitud entre la categoría y la palabra\n",
    "        similarity = nlp(category).similarity(nlp(word))\n",
    "        # Actualizar el puntaje de similaridad máximo\n",
    "        max_similarity = max(max_similarity, similarity)\n",
    "    # Si el puntaje de similaridad máximo es mayor a un umbral, agregar la categoría a related_categories\n",
    "    if max_similarity > 0.7:\n",
    "        related_categories.append(category)\n"
   ]
  },
  {
   "cell_type": "code",
   "execution_count": 12,
   "metadata": {},
   "outputs": [],
   "source": [
    "# Nos quedamos solo con las filas cuya categoría esté en related_categories\n",
    "restaurantes = restaurantes[restaurantes['category'].isin(related_categories)]"
   ]
  },
  {
   "cell_type": "code",
   "execution_count": 13,
   "metadata": {},
   "outputs": [
    {
     "data": {
      "text/plain": [
       "(88219, 4)"
      ]
     },
     "execution_count": 13,
     "metadata": {},
     "output_type": "execute_result"
    }
   ],
   "source": [
    "# Observamos el tamaño resultante\n",
    "restaurantes.shape"
   ]
  },
  {
   "cell_type": "code",
   "execution_count": 14,
   "metadata": {},
   "outputs": [
    {
     "data": {
      "text/html": [
       "<div>\n",
       "<style scoped>\n",
       "    .dataframe tbody tr th:only-of-type {\n",
       "        vertical-align: middle;\n",
       "    }\n",
       "\n",
       "    .dataframe tbody tr th {\n",
       "        vertical-align: top;\n",
       "    }\n",
       "\n",
       "    .dataframe thead th {\n",
       "        text-align: right;\n",
       "    }\n",
       "</style>\n",
       "<table border=\"1\" class=\"dataframe\">\n",
       "  <thead>\n",
       "    <tr style=\"text-align: right;\">\n",
       "      <th></th>\n",
       "      <th>name</th>\n",
       "      <th>category</th>\n",
       "      <th>avg_rating</th>\n",
       "      <th>num_of_reviews</th>\n",
       "    </tr>\n",
       "  </thead>\n",
       "  <tbody>\n",
       "    <tr>\n",
       "      <th>592</th>\n",
       "      <td>Bachata Rosa</td>\n",
       "      <td>Restaurant</td>\n",
       "      <td>3.6</td>\n",
       "      <td>8</td>\n",
       "    </tr>\n",
       "    <tr>\n",
       "      <th>593</th>\n",
       "      <td>Bachata Rosa</td>\n",
       "      <td>Restaurant</td>\n",
       "      <td>3.6</td>\n",
       "      <td>8</td>\n",
       "    </tr>\n",
       "    <tr>\n",
       "      <th>594</th>\n",
       "      <td>Bachata Rosa</td>\n",
       "      <td>Restaurant</td>\n",
       "      <td>3.6</td>\n",
       "      <td>8</td>\n",
       "    </tr>\n",
       "    <tr>\n",
       "      <th>788</th>\n",
       "      <td>Zampini's Bottega</td>\n",
       "      <td>Restaurant</td>\n",
       "      <td>4.7</td>\n",
       "      <td>18</td>\n",
       "    </tr>\n",
       "    <tr>\n",
       "      <th>789</th>\n",
       "      <td>Zampini's Bottega</td>\n",
       "      <td>Restaurant</td>\n",
       "      <td>4.7</td>\n",
       "      <td>18</td>\n",
       "    </tr>\n",
       "  </tbody>\n",
       "</table>\n",
       "</div>"
      ],
      "text/plain": [
       "                  name    category  avg_rating  num_of_reviews\n",
       "592       Bachata Rosa  Restaurant         3.6               8\n",
       "593       Bachata Rosa  Restaurant         3.6               8\n",
       "594       Bachata Rosa  Restaurant         3.6               8\n",
       "788  Zampini's Bottega  Restaurant         4.7              18\n",
       "789  Zampini's Bottega  Restaurant         4.7              18"
      ]
     },
     "execution_count": 14,
     "metadata": {},
     "output_type": "execute_result"
    }
   ],
   "source": [
    "restaurantes.head(5)"
   ]
  },
  {
   "cell_type": "code",
   "execution_count": 22,
   "metadata": {},
   "outputs": [],
   "source": [
    "from sklearn.neighbors import KNeighborsTransformer\n",
    "\n",
    "# Crear un nuevo DataFrame con las columnas 'avg_rating' y 'num_of_reviews'\n",
    "restaurantes = restaurantes[['avg_rating', 'num_of_reviews']]\n",
    "\n",
    "# Definir el modelo KNeighborsTransformer\n",
    "model = KNeighborsTransformer(n_neighbors=5, metric='euclidean', n_jobs=-1, algorithm='auto', leaf_size=30, p=2, metric_params=None)\n",
    "\n",
    "# Ajustar el modelo a los datos\n",
    "modelo = model.fit(restaurantes)\n",
    "\n",
    "import pickle\n",
    "\n",
    "# Guardar el modelo en un archivo .pkl\n",
    "with open('models/modelo_item_item.pkl', 'wb') as file:\n",
    "    pickle.dump(modelo, file)"
   ]
  },
  {
   "cell_type": "code",
   "execution_count": 25,
   "metadata": {},
   "outputs": [],
   "source": [
    "import pandas as pd\n",
    "import numpy as np\n",
    "import pickle\n",
    "from collections import deque\n",
    "\n",
    "def restaurantes_similares(restaurant_name, n_restaurants=5):\n",
    "    # Cargar el modelo desde el archivo .pkl\n",
    "    with open('models/modelo_item_item.pkl', 'rb') as file:\n",
    "        model = pickle.load(file)\n",
    "\n",
    "    # Cargar los datos desde el archivo Parquet\n",
    "    file_path = 'data/data_item_item.parquet'\n",
    "    table = pq.read_table(file_path)\n",
    "    restaurantes = table.to_pandas()\n",
    "\n",
    "    # Crear un nuevo DataFrame con las columnas 'avg_rating' y 'num_of_reviews'\n",
    "    restaurantes = restaurantes[['name', 'avg_rating', 'num_of_reviews']]\n",
    "\n",
    "    # Obtener el índice del restaurante de entrada\n",
    "    restaurant_index = restaurantes[restaurantes['name'] == restaurant_name].index[0]\n",
    "\n",
    "    # Obtener las características del restaurante de entrada\n",
    "    X = restaurantes.drop(columns=['name'])\n",
    "    restaurant_features = X.iloc[restaurant_index].values.reshape(1, -1)\n",
    "\n",
    "    # Encontrar los índices de los restaurantes más cercanos\n",
    "    distances, indices = model.kneighbors(restaurant_features, n_neighbors=len(X))\n",
    "\n",
    "    # Eliminar el índice del propio restaurante de la lista de índices similares\n",
    "    similar_indices = np.delete(indices[0], 0)\n",
    "\n",
    "    # Crear una cola con los índices similares\n",
    "    queue = deque(similar_indices)\n",
    "\n",
    "    # Seleccionar los primeros n_restaurants índices no repetidos\n",
    "    selected_indices = []\n",
    "    while len(selected_indices) < n_restaurants:\n",
    "        index = queue.popleft()\n",
    "        if index not in selected_indices:\n",
    "            selected_indices.append(index)\n",
    "        else:\n",
    "            queue.append(index)\n",
    "\n",
    "    # Obtener los nombres de los restaurantes similares\n",
    "    similar_restaurants = restaurantes.iloc[selected_indices]['name'].tolist()\n",
    "\n",
    "    return similar_restaurants\n"
   ]
  },
  {
   "cell_type": "code",
   "execution_count": 26,
   "metadata": {},
   "outputs": [
    {
     "name": "stderr",
     "output_type": "stream",
     "text": [
      "c:\\Users\\sebas\\AppData\\Local\\Programs\\Python\\Python39\\lib\\site-packages\\sklearn\\base.py:493: UserWarning: X does not have valid feature names, but KNeighborsTransformer was fitted with feature names\n",
      "  warnings.warn(\n"
     ]
    },
    {
     "data": {
      "text/plain": [
       "['La Granja',\n",
       " 'Tienda El Castillo',\n",
       " 'Villa Italian Kitchen',\n",
       " 'Krystal - Closed',\n",
       " 'Sushigami']"
      ]
     },
     "execution_count": 26,
     "metadata": {},
     "output_type": "execute_result"
    }
   ],
   "source": [
    "restaurantes_similares(\"Bachata Rosa\")"
   ]
  },
  {
   "cell_type": "code",
   "execution_count": 118,
   "metadata": {},
   "outputs": [],
   "source": [
    "# Exportamos la data para el modelo de ML\n",
    "restaurantes.to_parquet('./data/data_item_item.parquet', engine='pyarrow')"
   ]
  },
  {
   "cell_type": "code",
   "execution_count": null,
   "metadata": {},
   "outputs": [],
   "source": []
  }
 ],
 "metadata": {
  "kernelspec": {
   "display_name": "Python 3",
   "language": "python",
   "name": "python3"
  },
  "language_info": {
   "codemirror_mode": {
    "name": "ipython",
    "version": 3
   },
   "file_extension": ".py",
   "mimetype": "text/x-python",
   "name": "python",
   "nbconvert_exporter": "python",
   "pygments_lexer": "ipython3",
   "version": "3.9.0"
  }
 },
 "nbformat": 4,
 "nbformat_minor": 2
}
